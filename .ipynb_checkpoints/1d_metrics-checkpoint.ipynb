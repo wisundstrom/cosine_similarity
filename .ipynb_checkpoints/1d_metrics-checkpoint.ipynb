{
 "cells": [
  {
   "cell_type": "code",
   "execution_count": 23,
   "metadata": {},
   "outputs": [],
   "source": [
    "import pyspark\n",
    "import pandas as pd\n",
    "import numpy as np\n",
    "import matplotlib.pyplot as plt\n",
    "from pyspark.sql import SparkSession\n",
    "from sklearn.preprocessing import StandardScaler, MinMaxScaler\n",
    "from sklearn import datasets\n",
    "from scipy.stats import *\n",
    "from pyspark.sql.functions import pandas_udf, PandasUDFType\n",
    "from pyspark.sql import Window\n",
    "from pyspark.ml.feature import Normalizer\n",
    "from pyspark.mllib.linalg.distributed import *\n",
    "from pyspark.sql.types import *\n",
    "from pyspark.sql.functions import *\n",
    "import matplotlib.pyplot as plt\n",
    "import seaborn as sns\n",
    "import os\n",
    "import libpysal as ps\n",
    "from pointpats import PointPattern\n",
    "import pointpats.quadrat_statistics as qs\n",
    "\n",
    "\n",
    "%matplotlib inline\n",
    "os.environ['ARROW_PRE_0_15_IPC_FORMAT']='1'\n"
   ]
  },
  {
   "cell_type": "code",
   "execution_count": 24,
   "metadata": {},
   "outputs": [],
   "source": [
    "sc = SparkSession.builder.getOrCreate()\n",
    "sc.conf.set(\"spark.sql.execution.arrow.enabled\", \"true\")"
   ]
  },
  {
   "cell_type": "markdown",
   "metadata": {},
   "source": [
    "### 2 sample distribtuion comparisons, 1d metrics\n",
    "\n",
    "These functions take two columns as arguments and the test statistic shows how different they are. If only one column is given, the distribution is compared to a uniform distribution (which can be replaced with a gaussian or some other baseline \"good\" distribution later. We also test 1 dimensional versions of the 2d tests from above.\n",
    "\n",
    "*possibly add anderson_ksamp\n"
   ]
  },
  {
   "cell_type": "code",
   "execution_count": 25,
   "metadata": {},
   "outputs": [],
   "source": [
    "@pandas_udf(\"float\", PandasUDFType.GROUPED_AGG)\n",
    "def ks_score(xcol):\n",
    "    \"\"\"this takes the empirical CDF for each distribtuion and finds the maximum difference\"\"\"\n",
    "    ycol \n",
    "    #xcol = xcol/np.sum(xcol)\n",
    "    xmin = xcol.min()\n",
    "    xmax = xcol.max()\n",
    "    \n",
    "    num_samples = len(xcol)\n",
    "    \n",
    "    if not ycol:\n",
    "        ycol = np.random.uniform(xmin,xmax, num_samples)\n",
    "    else:\n",
    "        ycol = ycol/np.sum(ycol)\n",
    "        \n",
    "    ks_score = ks_2samp(xcol,ycol)[0]\n",
    "        \n",
    "    return ks_score"
   ]
  },
  {
   "cell_type": "code",
   "execution_count": 27,
   "metadata": {},
   "outputs": [],
   "source": [
    "@pandas_udf(\"float\", PandasUDFType.GROUPED_AGG)\n",
    "def ep_score(xcol):\n",
    "    \"\"\"this compares the empirical characteristic function for each distribtuion (the fourier transform of the pdf)\"\"\"\n",
    "    ycol = None\n",
    "    \n",
    "    #xcol = xcol/np.sum(xcol)\n",
    "    xmin = xcol.min()\n",
    "    xmax = xcol.max()\n",
    "    num_samples = len(xcol)\n",
    "    \n",
    "    if not ycol:\n",
    "        ycol = np.random.uniform(xmin,xmax, num_samples)\n",
    "    else:\n",
    "        ycol = ycol/np.sum(ycol)\n",
    "        \n",
    "    ep_score = epps_singleton_2samp(xcol,ycol)[0]\n",
    "        \n",
    "    return ep_score"
   ]
  },
  {
   "cell_type": "code",
   "execution_count": 28,
   "metadata": {},
   "outputs": [],
   "source": [
    "@pandas_udf(\"float\", PandasUDFType.GROUPED_AGG)\n",
    "def energy_dist(xcol):\n",
    "    \"\"\" This can be roughly thought of as the difference in area under the cdfs of the distributions\n",
    "    https://en.wikipedia.org/wiki/Energy_distance\"\"\"\n",
    "    ycol = None\n",
    "    xmin = xcol.min()\n",
    "    xmax = xcol.max()\n",
    "    xcol = xcol/np.sum(xcol)\n",
    "    \n",
    "    num_samples = len(xcol)\n",
    "    \n",
    "    if ycol:\n",
    "        ycol = ycol/np.sum(ycol)\n",
    "    else:\n",
    "        ycol = np.random.uniform(xmin,xmax, num_samples)\n",
    "        \n",
    "        \n",
    "    ed = energy_distance(xcol, ycol)\n",
    "        \n",
    "    return ed"
   ]
  },
  {
   "cell_type": "code",
   "execution_count": 29,
   "metadata": {},
   "outputs": [],
   "source": [
    "@pandas_udf(\"float\", PandasUDFType.GROUPED_AGG)\n",
    "def w_distance(xcol):\n",
    "    \"\"\"This can be thought of as the amount of work required to change one distribution into the other\n",
    "    https://en.wikipedia.org/wiki/Wasserstein_metric\"\"\"\n",
    "    ycol = None\n",
    "    xmin = xcol.min()\n",
    "    xmax = xcol.max()\n",
    "    #xcol = xcol/np.sum(xcol)\n",
    "    \n",
    "    num_samples = len(xcol)\n",
    "    \n",
    "    if not ycol:\n",
    "        ycol = np.random.uniform(xmin,xmax, num_samples)\n",
    "    else:\n",
    "        ycol = ycol/np.sum(ycol)\n",
    "        \n",
    "    w_dist = wasserstein_distance(xcol,ycol)\n",
    "        \n",
    "    return w_dist"
   ]
  },
  {
   "cell_type": "code",
   "execution_count": 219,
   "metadata": {},
   "outputs": [],
   "source": [
    "@pandas_udf(\"float\", PandasUDFType.GROUPED_AGG)\n",
    "def entropy_1d_bin(xcol):\n",
    "    \"\"\"If only one argument is given, this computes the entropy of a histogram of the data\n",
    "    \"\"\"\n",
    "    xstd = np.std(xcol)\n",
    "    hx = 3.5*xstd*np.power(len(xcol), -1/3)\n",
    "    nx = int((np.max(xcol)-np.min(xcol))/hx+1)\n",
    "    total_rows = len(xcol)\n",
    "    \n",
    "    x_hist, xedges= np.histogram(xcol, bins=nx, density = True)\n",
    "    \n",
    "    y_hist = np.full(nx, (xedges[1]-xedges[0]))\n",
    "    \n",
    "\n",
    "    entropy_1d = entropy(x_hist, y_hist) # + np.log((xedges[1]-xedges[0]))\n",
    "    \n",
    "    return entropy_1d"
   ]
  },
  {
   "cell_type": "code",
   "execution_count": 198,
   "metadata": {},
   "outputs": [],
   "source": [
    "@pandas_udf(\"float\", PandasUDFType.GROUPED_AGG)\n",
    "def chisq_bin_1d(xcol):\n",
    "    \n",
    "    xstd = np.std(xcol)\n",
    "    hx = 3.5*xstd*np.power(len(xcol), -1/3)\n",
    "    nx = int((np.max(xcol)-np.min(xcol))/hx+1)\n",
    "    total_rows = len(xcol)\n",
    "    expected_bin = total_rows/nx\n",
    "    \n",
    "    hist, xedges= np.histogram(xcol, bins=nx)\n",
    "    \n",
    "    chisq = np.sum((((hist-expected_bin)**2) / expected_bin))\n",
    "    \n",
    "    return chisq"
   ]
  },
  {
   "cell_type": "code",
   "execution_count": 199,
   "metadata": {},
   "outputs": [],
   "source": [
    "@pandas_udf(\"float\", PandasUDFType.GROUPED_AGG)\n",
    "def chisq(xcol):\n",
    "    \n",
    "    chisq = np.sum((((xcol-np.average(xcol))**2) / np.average(xcol)))\n",
    "    \n",
    "    return chisq\n"
   ]
  },
  {
   "cell_type": "code",
   "execution_count": 200,
   "metadata": {},
   "outputs": [],
   "source": [
    "@pandas_udf(\"float\", PandasUDFType.GROUPED_AGG)\n",
    "def pstd(xcol):\n",
    "    std = np.std(xcol)\n",
    "    \n",
    "    return std\n"
   ]
  },
  {
   "cell_type": "code",
   "execution_count": null,
   "metadata": {},
   "outputs": [],
   "source": []
  },
  {
   "cell_type": "code",
   "execution_count": 201,
   "metadata": {},
   "outputs": [],
   "source": [
    "spark_test_data = datasets.make_blobs(\n",
    "    n_samples = 140000, centers = 7, n_features = 2, cluster_std = [20,200,20,200,200,200,200], shuffle = False,\n",
    "    random_state = 15, center_box=(500,3500))\n",
    "\n",
    "df_agi = pd.DataFrame(spark_test_data[0])\n",
    "df_agi.columns = ['AGI','Refund']\n",
    "df_agi['label'] = spark_test_data[1]\n",
    "df_agi['id'] = df_agi.index\n",
    "df_agi[\"AGI\"] = df_agi[\"AGI\"] * 20\n",
    "\n",
    "SAMPLE_AMOUNT = 5000\n",
    "\n",
    "ssamp_clust_01 = df_agi.sample(SAMPLE_AMOUNT)\n",
    "ssamp_clust_02 = df_agi[((df_agi[\"label\"] == 0) | (df_agi[\"label\"] == 1))].sample(SAMPLE_AMOUNT)\n",
    "ssamp_clust_03 = df_agi[((df_agi[\"label\"] == 0) | (df_agi[\"label\"] == 2))].sample(SAMPLE_AMOUNT)\n",
    "ssamp_clust_04 = df_agi[((df_agi[\"label\"] == 1) | (df_agi[\"label\"] == 3) | (df_agi[\"label\"] == 5))].sample(SAMPLE_AMOUNT)\n",
    "ssamp_clusters = [ssamp_clust_01, ssamp_clust_02, ssamp_clust_03, ssamp_clust_04]\n"
   ]
  },
  {
   "cell_type": "code",
   "execution_count": 202,
   "metadata": {},
   "outputs": [],
   "source": [
    "baseline_df = ssamp_clusters[0].copy()\n",
    "num_samples = 5000"
   ]
  },
  {
   "cell_type": "code",
   "execution_count": 203,
   "metadata": {},
   "outputs": [],
   "source": [
    "max_agi = [cluster['AGI'].max() for cluster in ssamp_clusters]\n",
    "max_refund = [cluster['Refund'].max() for cluster in ssamp_clusters]\n",
    "min_agi = [cluster['AGI'].min() for cluster in ssamp_clusters]\n",
    "min_refund = [cluster['Refund'].min() for cluster in ssamp_clusters]\n"
   ]
  },
  {
   "cell_type": "code",
   "execution_count": 216,
   "metadata": {},
   "outputs": [
    {
     "data": {
      "text/plain": [
       "0.00017153656003502524"
      ]
     },
     "execution_count": 216,
     "metadata": {},
     "output_type": "execute_result"
    }
   ],
   "source": [
    "rang = np.abs(np.average(min_agi)-np.average(max_agi))\n",
    "1/rang*np.log(rang)"
   ]
  },
  {
   "cell_type": "code",
   "execution_count": 204,
   "metadata": {},
   "outputs": [],
   "source": [
    "baseline_df['AGI'] = np.random.uniform(np.average(min_agi),np.average(max_agi), num_samples)\n",
    "baseline_df['Refund'] = np.random.uniform(np.average(min_refund),np.average(max_refund), num_samples)\n",
    "ssamp_clusters.append(baseline_df)"
   ]
  },
  {
   "cell_type": "code",
   "execution_count": 205,
   "metadata": {},
   "outputs": [],
   "source": [
    "ssamp_clusters;"
   ]
  },
  {
   "cell_type": "code",
   "execution_count": 206,
   "metadata": {},
   "outputs": [],
   "source": [
    "for idx, cluster in enumerate(ssamp_clusters):\n",
    "    cluster['cluster_label'] = idx\n",
    " "
   ]
  },
  {
   "cell_type": "code",
   "execution_count": 207,
   "metadata": {},
   "outputs": [],
   "source": [
    "all_sample_df = pd.concat(ssamp_clusters)\n",
    "spark_df = sc.createDataFrame(all_sample_df)"
   ]
  },
  {
   "cell_type": "code",
   "execution_count": 220,
   "metadata": {},
   "outputs": [
    {
     "name": "stdout",
     "output_type": "stream",
     "text": [
      "+-------------+------------+\n",
      "|cluster_label|     entropy|\n",
      "+-------------+------------+\n",
      "|            0|   0.5165731|\n",
      "|            1|   1.2140498|\n",
      "|            2|   1.7047685|\n",
      "|            3|   0.4640285|\n",
      "|            4|8.7146054E-4|\n",
      "+-------------+------------+\n",
      "\n"
     ]
    }
   ],
   "source": [
    "test_metric = spark_df.groupby('cluster_label').agg(entropy_1d_bin('AGI').alias(\"entropy\")).sort('cluster_label')\n",
    "test_metric.show()"
   ]
  },
  {
   "cell_type": "code",
   "execution_count": null,
   "metadata": {},
   "outputs": [],
   "source": [
    "test_metric = spark_df.groupby('cluster_label').agg(entropy_1d_bin('AGI').alias(\"entropy\")).sort('cluster_label')\n",
    "test_metric.show()"
   ]
  },
  {
   "cell_type": "code",
   "execution_count": 209,
   "metadata": {},
   "outputs": [
    {
     "name": "stdout",
     "output_type": "stream",
     "text": [
      "+-------------+--------+---------+----------+---------+------------+-----------+\n",
      "|cluster_label|ks_score| ep_score|w_distance|  entropy|binned_chisq|     chi_sq|\n",
      "+-------------+--------+---------+----------+---------+------------+-----------+\n",
      "|            0|  0.1398|1598.2117|  39689.16|10.789306|    5903.816|5.4421236E7|\n",
      "|            1|   0.448| 9113.585| 31105.033| 9.820777|   16021.619|7.8404016E7|\n",
      "|            2|  0.4344|19501.387|  43502.48| 8.819151|   22501.127| 3.392822E7|\n",
      "|            3|  0.1888|1631.4021| 37945.875|10.797553|   3874.8364|6.9509392E7|\n",
      "|            4|  0.0302|3.3883498| 38227.914|11.074374|      8.7168|4.5745592E7|\n",
      "+-------------+--------+---------+----------+---------+------------+-----------+\n",
      "\n"
     ]
    }
   ],
   "source": [
    "column = 'AGI'\n",
    "AGI_metrics = spark_df.groupby('cluster_label').agg(ks_score(column).alias('ks_score'),\n",
    "                                                    ep_score(column).alias('ep_score'),\n",
    "                                                    w_distance(column).alias('w_distance'),\n",
    "                                                    entropy_1d_bin(column).alias(\"entropy\"),\n",
    "                                                    chisq_bin_1d(column).alias('binned_chisq'),\n",
    "                                                    chisq(column).alias('chi_sq')                                              \n",
    "                                                     ).sort('cluster_label')\n",
    "AGI_metrics.show()"
   ]
  },
  {
   "cell_type": "code",
   "execution_count": 41,
   "metadata": {},
   "outputs": [
    {
     "data": {
      "image/png": "[encoded data removed]",
      "text/plain": [
       "<Figure size 1296x864 with 5 Axes>"
      ]
     },
     "metadata": {
      "needs_background": "light"
     },
     "output_type": "display_data"
    }
   ],
   "source": [
    "\n",
    "fig, axs = plt.subplots(5,1)    \n",
    "for i in range(5):\n",
    "    plt.axes(axs[i])\n",
    "    xcol = ssamp_clusters[i]['AGI']\n",
    "    xstd = np.std(xcol)\n",
    "    hx = 3.5*xstd*np.power(len(xcol), -1/3)\n",
    "    nx = 15 if int(hx) <= .1 else int((np.max(xcol)-np.min(xcol))/hx+1)\n",
    "    sns.distplot(xcol, bins=nx)\n",
    "    \n",
    "\n",
    "    fig.set_size_inches(18,12)"
   ]
  },
  {
   "cell_type": "code",
   "execution_count": 44,
   "metadata": {},
   "outputs": [
    {
     "name": "stdout",
     "output_type": "stream",
     "text": [
      "+-------------+--------+---------+----------+---------+------------+---------+---------+\n",
      "|cluster_label|ks_score| ep_score|w_distance|  entropy|binned_chisq|   chi_sq|      std|\n",
      "+-------------+--------+---------+----------+---------+------------+---------+---------+\n",
      "|            0|  0.3592| 2641.734| 2143.1565|13.479426|    7253.152|1401364.6|686.13794|\n",
      "|            1|  0.3472|1778.6451| 1587.0442|13.760769|   19350.734| 351215.5|303.36188|\n",
      "|            2|  0.4016|11108.745| 1554.8717|12.249316|   20215.623| 891262.9|526.58826|\n",
      "|            3|   0.248| 3289.987|  1377.577| 14.94259|    4890.972|191816.47|234.22655|\n",
      "|            4|   0.022|2.5071168| 1670.8364|14.166626|       16.24| 890492.9| 544.4422|\n",
      "+-------------+--------+---------+----------+---------+------------+---------+---------+\n",
      "\n"
     ]
    }
   ],
   "source": [
    "column = 'Refund'\n",
    "refund_metrics = spark_df.groupby('cluster_label').agg(ks_score(column).alias('ks_score'),\n",
    "                                                    ep_score(column).alias('ep_score'),\n",
    "                                                    w_distance(column).alias('w_distance'),\n",
    "                                                    entropy_1d_bin(column).alias(\"entropy\"),\n",
    "                                                    chisq_bin_1d(column).alias('binned_chisq'),\n",
    "                                                    chisq(column).alias('chi_sq'),\n",
    "                                                    pstd(column).alias('std')\n",
    "                                                     ).sort('cluster_label')\n",
    "refund_metrics.show()"
   ]
  },
  {
   "cell_type": "code",
   "execution_count": null,
   "metadata": {},
   "outputs": [],
   "source": [
    "\n",
    "fig, axs = plt.subplots(5,1)    \n",
    "for i in range(5):\n",
    "    plt.axes(axs[i])\n",
    "    xcol = ssamp_clusters[i]['Refund']\n",
    "    xstd = np.std(xcol)\n",
    "    hx = 3.5*xstd*np.power(len(xcol), -1/3)\n",
    "    nx = 15 if int(hx) <= .1 else int((np.max(xcol)-np.min(xcol))/hx+1)\n",
    "    sns.distplot(xcol, bins=nx)\n",
    "    \n",
    "\n",
    "    fig.set_size_inches(18,12)"
   ]
  },
  {
   "cell_type": "code",
   "execution_count": null,
   "metadata": {},
   "outputs": [],
   "source": []
  },
  {
   "cell_type": "code",
   "execution_count": null,
   "metadata": {},
   "outputs": [],
   "source": []
  },
  {
   "cell_type": "code",
   "execution_count": null,
   "metadata": {},
   "outputs": [],
   "source": []
  }
 ],
 "metadata": {
  "kernelspec": {
   "display_name": "Python 3",
   "language": "python",
   "name": "python3"
  },
  "language_info": {
   "codemirror_mode": {
    "name": "ipython",
    "version": 3
   },
   "file_extension": ".py",
   "mimetype": "text/x-python",
   "name": "python",
   "nbconvert_exporter": "python",
   "pygments_lexer": "ipython3",
   "version": "3.7.6"
  }
 },
 "nbformat": 4,
 "nbformat_minor": 4
}

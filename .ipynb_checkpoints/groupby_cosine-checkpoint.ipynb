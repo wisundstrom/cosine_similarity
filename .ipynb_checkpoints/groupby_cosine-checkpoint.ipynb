{
 "cells": [
  {
   "cell_type": "code",
   "execution_count": 1,
   "metadata": {},
   "outputs": [],
   "source": [
    "import pyspark\n",
    "import pandas as pd\n",
    "import numpy as np\n",
    "from pyspark.sql import SparkSession\n",
    "from sklearn import datasets\n",
    "from pyspark.sql.functions import pandas_udf, PandasUDFType\n",
    "from pyspark.sql import Window\n",
    "from pyspark.ml.feature import Normalizer\n",
    "from pyspark.mllib.linalg.distributed import *\n",
    "from pyspark.sql.types import *\n",
    "import os\n",
    "os.environ['ARROW_PRE_0_15_IPC_FORMAT']='1'"
   ]
  },
  {
   "cell_type": "code",
   "execution_count": 2,
   "metadata": {},
   "outputs": [],
   "source": [
    "sc = SparkSession.builder.getOrCreate()\n",
    "sc.conf.set(\"spark.sql.execution.arrow.enabled\", \"true\")"
   ]
  },
  {
   "cell_type": "code",
   "execution_count": 3,
   "metadata": {},
   "outputs": [],
   "source": [
    "iris = datasets.load_iris()\n",
    "X_class = pd.DataFrame(iris.data, columns=iris.feature_names)\n",
    "y_class = pd.DataFrame(iris.target, columns=['label'])\n",
    "classs = pd.concat([X_class,y_class],axis=1)\n",
    "classs['id']=classs.index\n",
    "classs.columns=['A','B','C','D','label','id']\n",
    "num_obs = classs.shape[0]\n",
    "dfclust = sc.createDataFrame(classs)"
   ]
  },
  {
   "cell_type": "code",
   "execution_count": 4,
   "metadata": {},
   "outputs": [
    {
     "name": "stdout",
     "output_type": "stream",
     "text": [
      "+---+---+---+---+-----+---+\n",
      "|  A|  B|  C|  D|label| id|\n",
      "+---+---+---+---+-----+---+\n",
      "|5.1|3.5|1.4|0.2|    0|  0|\n",
      "|4.9|3.0|1.4|0.2|    0|  1|\n",
      "|4.7|3.2|1.3|0.2|    0|  2|\n",
      "|4.6|3.1|1.5|0.2|    0|  3|\n",
      "|5.0|3.6|1.4|0.2|    0|  4|\n",
      "|5.4|3.9|1.7|0.4|    0|  5|\n",
      "|4.6|3.4|1.4|0.3|    0|  6|\n",
      "|5.0|3.4|1.5|0.2|    0|  7|\n",
      "|4.4|2.9|1.4|0.2|    0|  8|\n",
      "|4.9|3.1|1.5|0.1|    0|  9|\n",
      "|5.4|3.7|1.5|0.2|    0| 10|\n",
      "|4.8|3.4|1.6|0.2|    0| 11|\n",
      "|4.8|3.0|1.4|0.1|    0| 12|\n",
      "|4.3|3.0|1.1|0.1|    0| 13|\n",
      "|5.8|4.0|1.2|0.2|    0| 14|\n",
      "|5.7|4.4|1.5|0.4|    0| 15|\n",
      "|5.4|3.9|1.3|0.4|    0| 16|\n",
      "|5.1|3.5|1.4|0.3|    0| 17|\n",
      "|5.7|3.8|1.7|0.3|    0| 18|\n",
      "|5.1|3.8|1.5|0.3|    0| 19|\n",
      "+---+---+---+---+-----+---+\n",
      "only showing top 20 rows\n",
      "\n"
     ]
    }
   ],
   "source": [
    "dfclust.show()"
   ]
  },
  {
   "cell_type": "code",
   "execution_count": 5,
   "metadata": {},
   "outputs": [],
   "source": [
    "sum_by_clust = dfclust.groupby('label').sum()"
   ]
  },
  {
   "cell_type": "code",
   "execution_count": 6,
   "metadata": {},
   "outputs": [
    {
     "name": "stdout",
     "output_type": "stream",
     "text": [
      "+-----+------------------+------------------+------------------+------------------+----------+-------+\n",
      "|label|            sum(A)|            sum(B)|            sum(C)|            sum(D)|sum(label)|sum(id)|\n",
      "+-----+------------------+------------------+------------------+------------------+----------+-------+\n",
      "|    0|250.29999999999998|171.40000000000003| 73.10000000000001|12.299999999999995|         0|   1225|\n",
      "|    1|296.79999999999995|             138.5|             213.0| 66.30000000000001|        50|   3725|\n",
      "|    2| 329.3999999999999|             148.7|277.59999999999997|101.29999999999998|       100|   6225|\n",
      "+-----+------------------+------------------+------------------+------------------+----------+-------+\n",
      "\n"
     ]
    }
   ],
   "source": [
    "sum_by_clust.show()"
   ]
  },
  {
   "cell_type": "code",
   "execution_count": 7,
   "metadata": {},
   "outputs": [],
   "source": [
    "sum2 = dfclust.groupby('label').agg({'C':'sum'})"
   ]
  },
  {
   "cell_type": "code",
   "execution_count": 8,
   "metadata": {},
   "outputs": [
    {
     "name": "stdout",
     "output_type": "stream",
     "text": [
      "+-----+------------------+\n",
      "|label|            sum(C)|\n",
      "+-----+------------------+\n",
      "|    0| 73.10000000000001|\n",
      "|    1|             213.0|\n",
      "|    2|277.59999999999997|\n",
      "+-----+------------------+\n",
      "\n"
     ]
    }
   ],
   "source": [
    "sum2.show()"
   ]
  },
  {
   "cell_type": "code",
   "execution_count": 9,
   "metadata": {},
   "outputs": [],
   "source": [
    "@pandas_udf(\"double\", PandasUDFType.GROUPED_AGG)  \n",
    "def mean_udf(v):\n",
    "    return v.mean()"
   ]
  },
  {
   "cell_type": "code",
   "execution_count": 106,
   "metadata": {},
   "outputs": [],
   "source": [
    "@pandas_udf(\"double\", PandasUDFType.GROUPED_AGG)  \n",
    "def means_udf2(v,u):\n",
    "    a = v.mean()\n",
    "    b = u.mean()\n",
    "    return a + b"
   ]
  },
  {
   "cell_type": "code",
   "execution_count": 107,
   "metadata": {},
   "outputs": [
    {
     "name": "stdout",
     "output_type": "stream",
     "text": [
      "+-----+-----------------+\n",
      "|label| means_udf2(A, B)|\n",
      "+-----+-----------------+\n",
      "|    0|8.434000000000001|\n",
      "|    1|            8.706|\n",
      "|    2|9.561999999999998|\n",
      "+-----+-----------------+\n",
      "\n"
     ]
    }
   ],
   "source": [
    "dfclust.groupby('label').agg(means_udf2(dfclust.A, dfclust.B)).show()"
   ]
  },
  {
   "cell_type": "code",
   "execution_count": 114,
   "metadata": {},
   "outputs": [],
   "source": [
    "@pandas_udf(\"float\", PandasUDFType.GROUPED_AGG)  \n",
    "def avgcosine(a,b,c,d):\n",
    "    pdf = np.array([a,b,c,d])\n",
    "    sum_squares = np.square(pdf).sum(axis=0)\n",
    "    normed= pdf/np.sqrt(sum_squares)\n",
    "    cosines = normed.T @ normed\n",
    "    \n",
    "    return cosines.mean()"
   ]
  },
  {
   "cell_type": "code",
   "execution_count": 115,
   "metadata": {},
   "outputs": [],
   "source": [
    "sum2 = dfclust.groupby('label').agg(avgcosine(dfclust.A, dfclust.B, dfclust.C, dfclust.D))"
   ]
  },
  {
   "cell_type": "code",
   "execution_count": 116,
   "metadata": {},
   "outputs": [
    {
     "name": "stdout",
     "output_type": "stream",
     "text": [
      "+-----+---------------------+\n",
      "|label|avgcosine(A, B, C, D)|\n",
      "+-----+---------------------+\n",
      "|    0|          0.021071898|\n",
      "|    1|          0.015095801|\n",
      "|    2|          0.010939049|\n",
      "+-----+---------------------+\n",
      "\n"
     ]
    }
   ],
   "source": [
    "sum2.show()"
   ]
  },
  {
   "cell_type": "code",
   "execution_count": 88,
   "metadata": {},
   "outputs": [
    {
     "data": {
      "text/plain": [
       "0.95549779660021"
      ]
     },
     "execution_count": 88,
     "metadata": {},
     "output_type": "execute_result"
    }
   ],
   "source": [
    "cols = [classs[col] for col in ['A','B','C','D']]\n",
    "temp_arr = np.array(cols)\n",
    "\n",
    "sum_squares = np.square(arr).sum(axis=0)\n",
    "\n",
    "normed= arr/np.sqrt(sum_squares)\n",
    "\n",
    "cosines = normed.T @ normed\n",
    "cosines.mean()"
   ]
  },
  {
   "cell_type": "code",
   "execution_count": null,
   "metadata": {},
   "outputs": [],
   "source": []
  },
  {
   "cell_type": "code",
   "execution_count": 13,
   "metadata": {},
   "outputs": [
    {
     "name": "stdout",
     "output_type": "stream",
     "text": [
      "+-----+-------------------+--------------------+--------------------+--------------------+---+\n",
      "|label|                  A|                   B|                   C|                   D| id|\n",
      "+-----+-------------------+--------------------+--------------------+--------------------+---+\n",
      "|    0|0.10391530163803436| 0.07147024504084012|0.026812585499315998|0.003252032520325205|  0|\n",
      "|    0|0.09592489013184181| 0.05250875145857642|0.026812585499315998|0.003252032520325205|  1|\n",
      "|    0|0.08825409508589695| 0.05974329054842474|0.023119015047879617|0.003252032520325205|  2|\n",
      "|    0|0.08453855373551737| 0.05606767794632438|  0.0307797537619699|0.003252032520325205|  3|\n",
      "|    0|0.09988014382740712| 0.07561260210035005|0.026812585499315998|0.003252032520325205|  4|\n",
      "|    0|0.11650019976028768| 0.08873978996499414|0.039534883720930225| 0.01300813008130082|  5|\n",
      "|    0|0.08453855373551737|  0.0674445740956826|0.026812585499315998|0.007317073170731...|  6|\n",
      "|    0|0.09988014382740712|  0.0674445740956826|  0.0307797537619699|0.003252032520325205|  7|\n",
      "|    0|0.07734718337994409|0.049066511085180856|0.026812585499315998|0.003252032520325205|  8|\n",
      "|    0|0.09592489013184181| 0.05606767794632438|  0.0307797537619699|8.130081300813012E-4|  9|\n",
      "|    0|0.11650019976028768| 0.07987164527421237|  0.0307797537619699|0.003252032520325205| 10|\n",
      "|    0|0.09204954055133839|  0.0674445740956826| 0.03502051983584131|0.003252032520325205| 11|\n",
      "|    0|0.09204954055133839| 0.05250875145857642|0.026812585499315998|8.130081300813012E-4| 12|\n",
      "|    0| 0.0738713543747503| 0.05250875145857642| 0.01655266757865937|8.130081300813012E-4| 13|\n",
      "|    0|0.13439872153415902| 0.09334889148191364|0.019699042407660735|0.003252032520325205| 14|\n",
      "|    0| 0.1298042349180983| 0.11295215869311552|  0.0307797537619699| 0.01300813008130082| 15|\n",
      "|    0|0.11650019976028768| 0.08873978996499414|0.023119015047879617| 0.01300813008130082| 16|\n",
      "|    0|0.10391530163803436| 0.07147024504084012|0.026812585499315998|0.007317073170731...| 17|\n",
      "|    0| 0.1298042349180983| 0.08424737456242705|0.039534883720930225|0.007317073170731...| 18|\n",
      "|    0|0.10391530163803436| 0.08424737456242705|  0.0307797537619699|0.007317073170731...| 19|\n",
      "+-----+-------------------+--------------------+--------------------+--------------------+---+\n",
      "only showing top 20 rows\n",
      "\n"
     ]
    }
   ],
   "source": [
    "# @pandas_udf(\"label long, A double, B double, C double, D double, id long\", PandasUDFType.GROUPED_MAP)\n",
    "# def normalize(pdf):\n",
    "#     # pdf is a pandas.DataFrame\n",
    "#     pdf_temp = pdf.loc[:,['A','B','C','D']].apply(lambda x: x*x)\n",
    "#     sum_squares = pdf.sum(axis=0)\n",
    "#     normed = pdf_temp/sum_squares\n",
    "#     normed['label'] = pdf['label']\n",
    "#     normed['id'] = pdf['id']\n",
    "#     return normed\n",
    "# dfclust.groupby(\"label\").apply(normalize).show()"
   ]
  },
  {
   "cell_type": "code",
   "execution_count": null,
   "metadata": {},
   "outputs": [],
   "source": [
    "classs"
   ]
  },
  {
   "cell_type": "code",
   "execution_count": 14,
   "metadata": {},
   "outputs": [
    {
     "name": "stdout",
     "output_type": "stream",
     "text": [
      "+-----+------------------+------------------+-------------------+--------------------+---+\n",
      "|label|                 A|                 B|                  C|                   D| id|\n",
      "+-----+------------------+------------------+-------------------+--------------------+---+\n",
      "|    0|0.7330134859742016|0.5023699300176514|0.18829622510682084| 0.02117024496099853|  0|\n",
      "|    0|0.6766495116586153|0.3690881118497031|0.18829622510682084| 0.02117024496099853|  1|\n",
      "|    0|0.6225400963156523|0.4199402517045512|0.16235745940333024| 0.02117024496099853|  2|\n",
      "|    0|0.5963308482589044|0.3941040838750719|0.21615638086242192| 0.02117024496099853|  3|\n",
      "|    0|0.7045496789448304|0.5314868810635724|0.18829622510682084| 0.02117024496099853|  4|\n",
      "|    0|0.8217867455212503|0.6237589090259982|0.27764086252995523| 0.08468097984399411|  5|\n",
      "|    0|0.5963308482589044|0.4740731747758408|0.18829622510682084| 0.04763305116224668|  6|\n",
      "|    0|0.7045496789448304|0.4740731747758408|0.21615638086242192| 0.02117024496099853|  7|\n",
      "|    0|0.5456032713748769|0.3448923356284448|0.18829622510682084| 0.02117024496099853|  8|\n",
      "|    0|0.6766495116586153|0.3941040838750719|0.21615638086242192|0.005292561240249632|  9|\n",
      "|    0|0.8217867455212503| 0.561424027913604|0.21615638086242192| 0.02117024496099853| 10|\n",
      "|    0|0.6493129841155557|0.4740731747758408|0.24593792667013342| 0.02117024496099853| 11|\n",
      "|    0|0.6493129841155557|0.3690881118497031|0.18829622510682084|0.005292561240249632| 12|\n",
      "|    0|0.5210849425475965|0.3690881118497031|0.11624409815268025|0.005292561240249632| 13|\n",
      "|    0|0.9480420479881639|0.6561566432883611|   0.13834008375195| 0.02117024496099853| 14|\n",
      "|    0|0.9156327627567017| 0.793949538378917|0.21615638086242192| 0.08468097984399411| 15|\n",
      "|    0|0.8217867455212503|0.6237589090259982|0.16235745940333024| 0.08468097984399411| 16|\n",
      "|    0|0.7330134859742016|0.5023699300176514|0.18829622510682084| 0.04763305116224668| 17|\n",
      "|    0|0.9156327627567017|0.5921813705677459|0.27764086252995523| 0.04763305116224668| 18|\n",
      "|    0|0.7330134859742016|0.5921813705677459|0.21615638086242192| 0.04763305116224668| 19|\n",
      "+-----+------------------+------------------+-------------------+--------------------+---+\n",
      "only showing top 20 rows\n",
      "\n"
     ]
    }
   ],
   "source": [
    "@pandas_udf(\"label long, A double, B double, C double, D double, id long\", PandasUDFType.GROUPED_MAP)\n",
    "def normalize(pdf):\n",
    "    # pdf is a pandas.DataFrame\n",
    "    pdf_temp = pdf.loc[:,['A','B','C','D']].apply(lambda x: x*x)\n",
    "    sum_squares = pdf_temp.sum(axis=0)\n",
    "    normed = pdf_temp.div(np.sqrt(sum_squares))\n",
    "    normed['label'] = pdf['label']\n",
    "    normed['id'] = pdf['id']\n",
    "    return normed\n",
    "dfclust.groupby(\"label\").apply(normalize).show()"
   ]
  },
  {
   "cell_type": "code",
   "execution_count": null,
   "metadata": {},
   "outputs": [],
   "source": []
  },
  {
   "cell_type": "code",
   "execution_count": 49,
   "metadata": {},
   "outputs": [],
   "source": [
    "schema_list1 = [StructField(str(name), FloatType(), True) for name in list(range(50))]\n",
    "#schema_list1.append(StructField('label', DoubleType(),True))\n",
    "cos_schema=StructType(schema_list1)"
   ]
  },
  {
   "cell_type": "code",
   "execution_count": 50,
   "metadata": {},
   "outputs": [],
   "source": [
    "@pandas_udf(cos_schema, PandasUDFType.GROUPED_MAP)\n",
    "def dot_prods(pdf):\n",
    "    #pdf is a pandas.DataFrame\n",
    "    pdf_temp = pdf.loc[:,['A','B','C','D']]\n",
    "    pdf_matrix = pdf_temp.to_numpy()\n",
    "    dot_prods = pdf_matrix @ pdf_matrix.T\n",
    "    return_df = pd.DataFrame(dot_prods)\n",
    "    #return_df['label'] = pdf['label']\n",
    "    return return_df\n",
    "    \n",
    "normed = dfclust.groupby(\"label\").apply(normalize)\n",
    "dots = normed.groupby(\"label\").apply(dot_prods)"
   ]
  },
  {
   "cell_type": "code",
   "execution_count": 51,
   "metadata": {},
   "outputs": [
    {
     "data": {
      "text/plain": [
       "150"
      ]
     },
     "execution_count": 51,
     "metadata": {},
     "output_type": "execute_result"
    }
   ],
   "source": [
    "dots.count()"
   ]
  },
  {
   "cell_type": "code",
   "execution_count": null,
   "metadata": {},
   "outputs": [],
   "source": [
    "# @pandas_udf(, PandasUDFType.GROUPED_MAP)\n",
    "# def cosine_matrix(pdf):\n",
    "#     irm = IndexedRowMatrix(pdf.rdd.map(lambda x: (x.id, [x.A, x.B, x.C, x.D]) ) )\n",
    "#     irmt = irm.toCoordinateMatrix().transpose()\n",
    "#     cosines = irmt.toRowMatrix().columnSimilarities()\n",
    "#     return pdf.assign(v=v - v.mean())"
   ]
  },
  {
   "cell_type": "code",
   "execution_count": null,
   "metadata": {},
   "outputs": [],
   "source": [
    "classs.T"
   ]
  },
  {
   "cell_type": "code",
   "execution_count": null,
   "metadata": {},
   "outputs": [],
   "source": [
    "# only needed if returning very large dataframe\n",
    "# schema_list = [StructField(str(name), FloatType(), True) for name in  classs.id]\n",
    "# cos_schema=StructType(schema_list)"
   ]
  },
  {
   "cell_type": "code",
   "execution_count": null,
   "metadata": {},
   "outputs": [],
   "source": [
    "# @pandas_udf(\"avg_cos double\", PandasUDFType.GROUPED_MAP)\n",
    "# def cosine_matrix(pdf):\n",
    "#     irm = IndexedRowMatrix(pdf.rdd.map(lambda x: (x.id, [x.A, x.B, x.C, x.D]) ) )\n",
    "#     irmt = irm.toCoordinateMatrix().transpose()\n",
    "#     cosines = irmt.toRowMatrix().columnSimilarities()\n",
    "    \n",
    "#     # to test this function, lets try to find the average\n",
    "#     avg_cos = [sum(rows.map(sum).collect())/(150**2)]\n",
    "#     return sc.cereateDataFrame(pd.dataframe(avg_cos, columns=['avg_cos']))"
   ]
  },
  {
   "cell_type": "code",
   "execution_count": null,
   "metadata": {},
   "outputs": [],
   "source": [
    "# @pandas_udf(\"avg_cos double\", PandasUDFType.GROUPED_MAP)\n",
    "# def cosine_matrix(pdf):\n",
    "#     irm = IndexedRowMatrix(pdf.rdd.map(lambda x: (x.id, [x.A, x.B, x.C, x.D]) ) )\n",
    "#     irmt = irm.toCoordinateMatrix().transpose()\n",
    "#     cosines = irmt.toRowMatrix().columnSimilarities()\n",
    "    \n",
    "#     # to test this function, lets try to find the average\n",
    "#     avg_cos = [sum(rows.map(sum).collect())/(150**2)]\n",
    "#     return sc.cereateDataFrame(pd.dataframe(avg_cos, columns=['avg_cos']))"
   ]
  },
  {
   "cell_type": "code",
   "execution_count": null,
   "metadata": {},
   "outputs": [],
   "source": [
    "sc.createDataFrame(pd.DataFrame([55]))"
   ]
  },
  {
   "cell_type": "code",
   "execution_count": null,
   "metadata": {},
   "outputs": [],
   "source": [
    "similarity_df = sc.createDataFrame(classs)\n",
    "rdd_df=similarity_df.rdd.map(list)\n",
    "df_matrix = RowMatrix(rdd_df)"
   ]
  },
  {
   "cell_type": "code",
   "execution_count": null,
   "metadata": {},
   "outputs": [],
   "source": [
    "df_matrix.computeGramianMatrix()"
   ]
  },
  {
   "cell_type": "code",
   "execution_count": null,
   "metadata": {},
   "outputs": [],
   "source": [
    "irm = IndexedRowMatrix(dfclust.rdd.map(lambda x: (x.id, [x.A, x.B, x.C, x.D]) ) )\n",
    "\n",
    "irmt = irm.toCoordinateMatrix().transpose()"
   ]
  },
  {
   "cell_type": "code",
   "execution_count": null,
   "metadata": {},
   "outputs": [],
   "source": [
    "cosines = irmt.toRowMatrix().columnSimilarities()"
   ]
  },
  {
   "cell_type": "code",
   "execution_count": null,
   "metadata": {},
   "outputs": [],
   "source": [
    "rows = cosines.toRowMatrix().rows"
   ]
  },
  {
   "cell_type": "code",
   "execution_count": null,
   "metadata": {},
   "outputs": [],
   "source": [
    "sum(rows.map(sum).collect())/(num_obs**2)"
   ]
  },
  {
   "cell_type": "code",
   "execution_count": null,
   "metadata": {},
   "outputs": [],
   "source": [
    "@pandas_udf(\"double\", PandasUDFType.GROUPED_AGG)  \n",
    "def means_udf2(A, B, C, D, index):\n",
    "    \n",
    "    \n",
    "    irmt = irm.toCoordinateMatrix().transpose()\n",
    "    cosines = irmt.toRowMatrix().columnSimilarities()\n",
    "    \n",
    "    # to test this function, lets try to find the average\n",
    "    avg_cos = [sum(rows.map(sum).collect())/(150**2)]\n",
    "    return avg_cos\n"
   ]
  },
  {
   "cell_type": "code",
   "execution_count": null,
   "metadata": {},
   "outputs": [],
   "source": []
  }
 ],
 "metadata": {
  "kernelspec": {
   "display_name": "Python 3",
   "language": "python",
   "name": "python3"
  },
  "language_info": {
   "codemirror_mode": {
    "name": "ipython",
    "version": 3
   },
   "file_extension": ".py",
   "mimetype": "text/x-python",
   "name": "python",
   "nbconvert_exporter": "python",
   "pygments_lexer": "ipython3",
   "version": "3.7.6"
  }
 },
 "nbformat": 4,
 "nbformat_minor": 4
}

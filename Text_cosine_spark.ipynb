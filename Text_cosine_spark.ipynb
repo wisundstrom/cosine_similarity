{
 "cells": [
  {
   "cell_type": "code",
   "execution_count": 30,
   "metadata": {},
   "outputs": [],
   "source": [
    "import pandas as pd\n",
    "import pyspark\n",
    "import pandas as pd\n",
    "import numpy as np\n",
    "import matplotlib.pyplot as plt\n",
    "from pyspark.sql import SparkSession\n",
    "import pyspark.sql.types as t\n",
    "import pyspark.sql.functions as f\n",
    "from pyspark.ml.feature import HashingTF, IDF, RegexTokenizer, NGram, Normalizer\n",
    "from pyspark.ml.linalg import *\n",
    "from sklearn.metrics.pairwise import cosine_similarity\n",
    "from sklearn.feature_extraction.text import CountVectorizer\n",
    "\n",
    "import string as st"
   ]
  },
  {
   "cell_type": "code",
   "execution_count": 2,
   "metadata": {},
   "outputs": [],
   "source": [
    "sc = SparkSession.builder.getOrCreate()"
   ]
  },
  {
   "cell_type": "code",
   "execution_count": 3,
   "metadata": {},
   "outputs": [],
   "source": [
    "emails = sc.sparkContext.textFile('crawl2')"
   ]
  },
  {
   "cell_type": "code",
   "execution_count": null,
   "metadata": {},
   "outputs": [],
   "source": []
  },
  {
   "cell_type": "code",
   "execution_count": 4,
   "metadata": {},
   "outputs": [
    {
     "data": {
      "text/plain": [
       "2011"
      ]
     },
     "execution_count": 4,
     "metadata": {},
     "output_type": "execute_result"
    }
   ],
   "source": [
    "emails.toDF(\"String\").count()"
   ]
  },
  {
   "cell_type": "code",
   "execution_count": null,
   "metadata": {},
   "outputs": [],
   "source": []
  },
  {
   "cell_type": "code",
   "execution_count": 5,
   "metadata": {},
   "outputs": [],
   "source": [
    "email_list = pd.read_pickle(\"email_list\")"
   ]
  },
  {
   "cell_type": "code",
   "execution_count": 6,
   "metadata": {},
   "outputs": [
    {
     "data": {
      "text/plain": [
       "list"
      ]
     },
     "execution_count": 6,
     "metadata": {},
     "output_type": "execute_result"
    }
   ],
   "source": [
    "type(email_list)"
   ]
  },
  {
   "cell_type": "code",
   "execution_count": 7,
   "metadata": {},
   "outputs": [],
   "source": [
    "label = np.random.randint(1,5, size=len(email_list))"
   ]
  },
  {
   "cell_type": "code",
   "execution_count": 8,
   "metadata": {},
   "outputs": [],
   "source": [
    "df = pd.DataFrame(zip(emails.collect(),label), columns = ['email','label'])\n",
    "names = df['email'].sample(frac = 1, replace = True).reset_index(drop=True)\n",
    "df['names']=names"
   ]
  },
  {
   "cell_type": "code",
   "execution_count": 9,
   "metadata": {},
   "outputs": [
    {
     "data": {
      "text/html": [
       "<div>\n",
       "<style scoped>\n",
       "    .dataframe tbody tr th:only-of-type {\n",
       "        vertical-align: middle;\n",
       "    }\n",
       "\n",
       "    .dataframe tbody tr th {\n",
       "        vertical-align: top;\n",
       "    }\n",
       "\n",
       "    .dataframe thead th {\n",
       "        text-align: right;\n",
       "    }\n",
       "</style>\n",
       "<table border=\"1\" class=\"dataframe\">\n",
       "  <thead>\n",
       "    <tr style=\"text-align: right;\">\n",
       "      <th></th>\n",
       "      <th>email</th>\n",
       "      <th>label</th>\n",
       "      <th>names</th>\n",
       "    </tr>\n",
       "  </thead>\n",
       "  <tbody>\n",
       "    <tr>\n",
       "      <th>0</th>\n",
       "      <td>sherri.sera@enron.com</td>\n",
       "      <td>3</td>\n",
       "      <td>ccrawfo@azurix.com</td>\n",
       "    </tr>\n",
       "    <tr>\n",
       "      <th>1</th>\n",
       "      <td>trish3kids@aol.com</td>\n",
       "      <td>3</td>\n",
       "      <td>dfeather@enron.com</td>\n",
       "    </tr>\n",
       "    <tr>\n",
       "      <th>2</th>\n",
       "      <td>Trish3kids@aol.com</td>\n",
       "      <td>4</td>\n",
       "      <td>john.sherriff@enron.com</td>\n",
       "    </tr>\n",
       "    <tr>\n",
       "      <th>3</th>\n",
       "      <td>sherri.sera@enron.com</td>\n",
       "      <td>4</td>\n",
       "      <td>amelia.alder@enron.com</td>\n",
       "    </tr>\n",
       "    <tr>\n",
       "      <th>4</th>\n",
       "      <td>greg.grissom@enron.com</td>\n",
       "      <td>2</td>\n",
       "      <td>cuus@enron.com</td>\n",
       "    </tr>\n",
       "    <tr>\n",
       "      <th>...</th>\n",
       "      <td>...</td>\n",
       "      <td>...</td>\n",
       "      <td>...</td>\n",
       "    </tr>\n",
       "    <tr>\n",
       "      <th>2006</th>\n",
       "      <td>michael.brown@enron.com</td>\n",
       "      <td>4</td>\n",
       "      <td>mwarner@enron.com</td>\n",
       "    </tr>\n",
       "    <tr>\n",
       "      <th>2007</th>\n",
       "      <td>lucy.marshall@enron.com</td>\n",
       "      <td>3</td>\n",
       "      <td>sherri.sera@enron.com</td>\n",
       "    </tr>\n",
       "    <tr>\n",
       "      <th>2008</th>\n",
       "      <td>cindy.olson@enron.com</td>\n",
       "      <td>1</td>\n",
       "      <td>larry.ciscon@enron.com</td>\n",
       "    </tr>\n",
       "    <tr>\n",
       "      <th>2009</th>\n",
       "      <td>bridget.maronge@enron.com</td>\n",
       "      <td>4</td>\n",
       "      <td>mgarber2@enron.com</td>\n",
       "    </tr>\n",
       "    <tr>\n",
       "      <th>2010</th>\n",
       "      <td>jeffrey.sherrick@enron.com</td>\n",
       "      <td>3</td>\n",
       "      <td>james.derrick@enron.com</td>\n",
       "    </tr>\n",
       "  </tbody>\n",
       "</table>\n",
       "<p>2011 rows × 3 columns</p>\n",
       "</div>"
      ],
      "text/plain": [
       "                           email  label                    names\n",
       "0          sherri.sera@enron.com      3       ccrawfo@azurix.com\n",
       "1             trish3kids@aol.com      3       dfeather@enron.com\n",
       "2             Trish3kids@aol.com      4  john.sherriff@enron.com\n",
       "3          sherri.sera@enron.com      4   amelia.alder@enron.com\n",
       "4         greg.grissom@enron.com      2           cuus@enron.com\n",
       "...                          ...    ...                      ...\n",
       "2006     michael.brown@enron.com      4        mwarner@enron.com\n",
       "2007     lucy.marshall@enron.com      3    sherri.sera@enron.com\n",
       "2008       cindy.olson@enron.com      1   larry.ciscon@enron.com\n",
       "2009   bridget.maronge@enron.com      4       mgarber2@enron.com\n",
       "2010  jeffrey.sherrick@enron.com      3  james.derrick@enron.com\n",
       "\n",
       "[2011 rows x 3 columns]"
      ]
     },
     "execution_count": 9,
     "metadata": {},
     "output_type": "execute_result"
    }
   ],
   "source": [
    "df"
   ]
  },
  {
   "cell_type": "code",
   "execution_count": 10,
   "metadata": {},
   "outputs": [],
   "source": [
    "email_df = sc.createDataFrame(df, schema = ['email','label','names'] )"
   ]
  },
  {
   "cell_type": "code",
   "execution_count": 11,
   "metadata": {},
   "outputs": [
    {
     "data": {
      "text/plain": [
       "74"
      ]
     },
     "execution_count": 11,
     "metadata": {},
     "output_type": "execute_result"
    }
   ],
   "source": [
    "# check number of symbols/ngrams in set of strings\n",
    "vectorizer = CountVectorizer(analyzer='char', lowercase=False, ngram_range=(1,1))\n",
    "vectorizer = vectorizer.fit(email_list)\n",
    "symbols = vectorizer.get_feature_names()\n",
    "len(symbols)"
   ]
  },
  {
   "cell_type": "code",
   "execution_count": 31,
   "metadata": {},
   "outputs": [],
   "source": [
    "def vectorize_string_cols(df, cols):\n",
    "    \n",
    "    other_cols = list(set(df.columns) - set(cols)) \n",
    "    for col in cols:\n",
    "        \n",
    "        tokenizer = RegexTokenizer(inputCol=f\"{col}\", outputCol=f\"{col}_chars\", gaps=False, pattern=\".\" )\n",
    "        charData = tokenizer.transform(df)\n",
    "        \n",
    "        # the n-gram step is set to 1 right now so it does not currently do anything,\n",
    "        # it is there for conveinience if we want n-grams in the future\n",
    "        ngramer = NGram(n=1, inputCol=f\"{col}_chars\", outputCol=f\"{col}_ngrams\")\n",
    "        ngramData = ngramer.transform(charData)\n",
    "        \n",
    "        \n",
    "        # this uses a hash function instead of the standard count vectorization\n",
    "        # in general, if the load factor (num_symbols/num_features) is very small\n",
    "        # the expected number of hash collisions is small, and so the hashing tf \n",
    "        # should be very similar to the countVectorizer.\n",
    "        \n",
    "        # as load factor increases, the number of symbols hashed to the same number\n",
    "        # will increase, but we could possibly use this to increase performance \n",
    "        # if the number of features gets too large.\n",
    "        \n",
    "        # the hashing algorithm works best when features is a power of 2\n",
    "        \n",
    "        hashingTF = HashingTF(inputCol=f\"{col}_ngrams\", outputCol=f\"{col}_rawFeatures\", numFeatures=2**7)\n",
    "        featurizedData = hashingTF.transform(ngramData)\n",
    "        \n",
    "        # not 100% sure about this, but it was in the documentation. it might help\n",
    "        # with the fact that idfModel makes two passes over the data.\n",
    "        featurizedData.cache()\n",
    "        \n",
    "        idf = IDF(inputCol=f\"{col}_rawFeatures\", outputCol=f\"{col}_vec\")\n",
    "        idfModel = idf.fit(featurizedData)\n",
    "        df = idfModel.transform(featurizedData)\n",
    "    \n",
    "    new_columns =[f\"{col}_vec\" for col in cols]\n",
    "    all_cols = cols+other_cols+new_columns\n",
    "    vectorized = df.select(all_cols)\n",
    "    \n",
    "    return vectorized\n",
    "\n",
    "def normalize_columns(df, cols):\n",
    "    \n",
    "    other_cols = list(set(df.columns) - set(cols)) \n",
    "    for col in cols:\n",
    "        normalizer = Normalizer(inputCol=f\"{col}\", outputCol=f\"{col}_normalized\", p=2.0)\n",
    "        df = normalizer.transform(df)\n",
    "        \n",
    "    \n",
    "    return df"
   ]
  },
  {
   "cell_type": "code",
   "execution_count": 32,
   "metadata": {},
   "outputs": [
    {
     "name": "stdout",
     "output_type": "stream",
     "text": [
      "+--------------------+--------------------+-----+--------------------+--------------------+--------------------+--------------------+\n",
      "|               email|               names|label|           email_vec|           names_vec|email_vec_normalized|names_vec_normalized|\n",
      "+--------------------+--------------------+-----+--------------------+--------------------+--------------------+--------------------+\n",
      "|sherri.sera@enron...|  ccrawfo@azurix.com|    3|(128,[0,7,26,66,6...|(128,[0,26,34,66,...|(128,[0,7,26,66,6...|(128,[0,26,34,66,...|\n",
      "|  trish3kids@aol.com|  dfeather@enron.com|    3|(128,[0,6,26,54,6...|(128,[0,6,7,26,66...|(128,[0,6,26,54,6...|(128,[0,6,7,26,66...|\n",
      "|  Trish3kids@aol.com|john.sherriff@enr...|    4|(128,[0,6,26,54,6...|(128,[0,7,26,66,6...|(128,[0,6,26,54,6...|(128,[0,7,26,66,6...|\n",
      "|sherri.sera@enron...|amelia.alder@enro...|    4|(128,[0,7,26,66,6...|(128,[0,6,7,26,54...|(128,[0,7,26,66,6...|(128,[0,6,7,26,54...|\n",
      "|greg.grissom@enro...|      cuus@enron.com|    2|(128,[0,7,26,49,6...|(128,[0,7,26,66,6...|(128,[0,7,26,49,6...|(128,[0,7,26,66,6...|\n",
      "|sherri.sera@enron...|audrey.robertson@...|    1|(128,[0,7,26,66,6...|(128,[0,6,7,26,65...|(128,[0,7,26,66,6...|(128,[0,6,7,26,65...|\n",
      "|greg.grissom@enro...|marilyn.lee@enron...|    1|(128,[0,7,26,49,6...|(128,[0,7,26,54,6...|(128,[0,7,26,49,6...|(128,[0,7,26,54,6...|\n",
      "|sherri.sera@enron...|mkhourie@trammell...|    1|(128,[0,7,26,66,6...|(128,[0,26,54,64,...|(128,[0,7,26,66,6...|(128,[0,26,54,64,...|\n",
      "|markskilling@hotm...|sherri.sera@enron...|    4|(128,[0,7,26,49,5...|(128,[0,7,26,66,6...|(128,[0,7,26,49,5...|(128,[0,7,26,66,6...|\n",
      "|sherri.sera@enron...|   dmathe2@enron.com|    1|(128,[0,7,26,66,6...|(128,[0,6,7,26,66...|(128,[0,7,26,66,6...|(128,[0,6,7,26,66...|\n",
      "|brad.noble@enron.com|kevin.hannon@enro...|    2|(128,[0,6,7,26,54...|(128,[0,7,26,64,6...|(128,[0,6,7,26,54...|(128,[0,7,26,64,6...|\n",
      "|sherri.sera@enron...|gregory.thompson@...|    2|(128,[0,7,26,66,6...|(128,[0,6,7,20,26...|(128,[0,7,26,66,6...|(128,[0,6,7,20,26...|\n",
      "|karen.marshall@en...|michael.brown@enr...|    4|(128,[0,7,26,54,6...|(128,[0,7,26,54,6...|(128,[0,7,26,54,6...|(128,[0,7,26,54,6...|\n",
      "|sherri.sera@enron...|kenneth.lay@enron...|    2|(128,[0,7,26,66,6...|(128,[0,7,26,54,6...|(128,[0,7,26,66,6...|(128,[0,7,26,54,6...|\n",
      "|jay.fitzgerald@en...|inez.dauterive@en...|    1|(128,[0,6,7,26,49...|(128,[0,6,7,26,66...|(128,[0,6,7,26,49...|(128,[0,6,7,26,66...|\n",
      "|sherri.sera@enron...|cliff.baxter@enro...|    1|(128,[0,7,26,66,6...|(128,[0,7,26,34,5...|(128,[0,7,26,66,6...|(128,[0,7,26,34,5...|\n",
      "|jay.fitzgerald@en...|Arthur_Coppola@ma...|    2|(128,[0,6,7,26,49...|(128,[0,20,26,54,...|(128,[0,6,7,26,49...|(128,[0,20,26,54,...|\n",
      "|karen.marshall@en...|sherri.sera@enron...|    1|(128,[0,7,26,54,6...|(128,[0,7,26,66,6...|(128,[0,7,26,54,6...|(128,[0,7,26,66,6...|\n",
      "|sherri.sera@enron...|dougs@senterracor...|    3|(128,[0,7,26,66,6...|(128,[0,6,7,20,26...|(128,[0,7,26,66,6...|(128,[0,6,7,20,26...|\n",
      "|brian.schaffer@en...|jeff.skilling@enr...|    2|(128,[0,7,26,65,6...|(128,[0,7,26,49,5...|(128,[0,7,26,65,6...|(128,[0,7,26,49,5...|\n",
      "+--------------------+--------------------+-----+--------------------+--------------------+--------------------+--------------------+\n",
      "only showing top 20 rows\n",
      "\n"
     ]
    }
   ],
   "source": [
    "vectorized = vectorize_string_cols(email_df, ['email','names'])\n",
    "vectorized = normalize_columns(vectorized, ['email_vec','names_vec'])\n",
    "vectorized.show()"
   ]
  },
  {
   "cell_type": "code",
   "execution_count": 14,
   "metadata": {},
   "outputs": [],
   "source": [
    "first = vectorized.first()\n"
   ]
  },
  {
   "cell_type": "code",
   "execution_count": 15,
   "metadata": {},
   "outputs": [],
   "source": [
    "@f.udf(t.FloatType())\n",
    "def vect_cosine(col):\n",
    "    num_rows = len(col)\n",
    "    num_entries = (num_rows * (num_rows -1))/2\n",
    "    if num_rows >= 10:\n",
    "        \n",
    "        cosines = cosine_similarity(col)\n",
    "        cosines = np.triu(cosines, k=1)\n",
    "        \n",
    "        return float(np.sum(cosines))\n",
    "    \n",
    "    else:\n",
    "        return None"
   ]
  },
  {
   "cell_type": "code",
   "execution_count": 35,
   "metadata": {},
   "outputs": [],
   "source": [
    "result = vectorized.groupBy(\"label\").agg(\n",
    "    vect_cosine(f.collect_list(\"email_vec_normalized\")),\n",
    "    vect_cosine(f.collect_list(\"email_vec\"))\n",
    ")"
   ]
  },
  {
   "cell_type": "code",
   "execution_count": 36,
   "metadata": {},
   "outputs": [
    {
     "name": "stdout",
     "output_type": "stream",
     "text": [
      "+-----+-----------------------------------------------------+------------------------------------------+\n",
      "|label|vect_cosine(collect_list(email_vec_normalized, 0, 0))|vect_cosine(collect_list(email_vec, 0, 0))|\n",
      "+-----+-----------------------------------------------------+------------------------------------------+\n",
      "|    1|                                            29587.445|                                 29587.445|\n",
      "|    3|                                             33778.53|                                  33778.53|\n",
      "|    2|                                             25164.93|                                  25164.93|\n",
      "|    4|                                            27797.639|                                 27797.639|\n",
      "+-----+-----------------------------------------------------+------------------------------------------+\n",
      "\n"
     ]
    }
   ],
   "source": [
    "result.show()"
   ]
  },
  {
   "cell_type": "code",
   "execution_count": 37,
   "metadata": {},
   "outputs": [],
   "source": [
    "result2 = vectorized.agg(\n",
    "    vect_cosine(f.collect_list(\"email_vec_normalized\"))\n",
    ")"
   ]
  },
  {
   "cell_type": "code",
   "execution_count": 38,
   "metadata": {},
   "outputs": [
    {
     "name": "stdout",
     "output_type": "stream",
     "text": [
      "+-----------------------------------------------------+\n",
      "|vect_cosine(collect_list(email_vec_normalized, 0, 0))|\n",
      "+-----------------------------------------------------+\n",
      "|                                             464472.0|\n",
      "+-----------------------------------------------------+\n",
      "\n"
     ]
    }
   ],
   "source": [
    "result2.show()"
   ]
  },
  {
   "cell_type": "code",
   "execution_count": 49,
   "metadata": {},
   "outputs": [],
   "source": [
    "@f.udf(t.FloatType())\n",
    "def vect_cosine2(col):\n",
    "    num_rows = len(col)\n",
    "    \n",
    "    if num_rows >= 10:\n",
    "        \n",
    "        num_entries = (num_rows * (num_rows -1))\n",
    "        \n",
    "        colsum = np.sum(col, axis=0)\n",
    "        sqsum = np.sum(np.square(colsum))\n",
    "        \n",
    "        return float((sqsum-num_rows)/num_entries)\n",
    "    \n",
    "    else:\n",
    "        return None"
   ]
  },
  {
   "cell_type": "code",
   "execution_count": null,
   "metadata": {},
   "outputs": [],
   "source": []
  },
  {
   "cell_type": "code",
   "execution_count": 50,
   "metadata": {},
   "outputs": [],
   "source": [
    "result2 = vectorized.agg(\n",
    "    vect_cosine2(f.collect_list(\"email_vec_normalized\"))\n",
    ")"
   ]
  },
  {
   "cell_type": "code",
   "execution_count": 51,
   "metadata": {},
   "outputs": [
    {
     "name": "stdout",
     "output_type": "stream",
     "text": [
      "+------------------------------------------------------+\n",
      "|vect_cosine2(collect_list(email_vec_normalized, 0, 0))|\n",
      "+------------------------------------------------------+\n",
      "|                                             0.2298166|\n",
      "+------------------------------------------------------+\n",
      "\n"
     ]
    }
   ],
   "source": [
    "result2.show()"
   ]
  },
  {
   "cell_type": "code",
   "execution_count": null,
   "metadata": {},
   "outputs": [],
   "source": []
  }
 ],
 "metadata": {
  "kernelspec": {
   "display_name": "Python 3",
   "language": "python",
   "name": "python3"
  },
  "language_info": {
   "codemirror_mode": {
    "name": "ipython",
    "version": 3
   },
   "file_extension": ".py",
   "mimetype": "text/x-python",
   "name": "python",
   "nbconvert_exporter": "python",
   "pygments_lexer": "ipython3",
   "version": "3.7.6"
  }
 },
 "nbformat": 4,
 "nbformat_minor": 4
}

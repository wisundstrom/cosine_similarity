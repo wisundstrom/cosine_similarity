{
 "cells": [
  {
   "cell_type": "code",
   "execution_count": 2,
   "metadata": {},
   "outputs": [],
   "source": [
    "import pyspark\n",
    "import pandas as pd\n",
    "import numpy as np\n",
    "from pyspark.sql import SparkSession\n",
    "from sklearn import datasets\n",
    "from pyspark.sql.functions import pandas_udf, PandasUDFType\n",
    "from pyspark.sql import Window\n",
    "from pyspark.ml.feature import Normalizer\n",
    "from pyspark.mllib.linalg.distributed import *\n",
    "from pyspark.sql.types import *\n",
    "import os\n",
    "os.environ['ARROW_PRE_0_15_IPC_FORMAT']='1'"
   ]
  },
  {
   "cell_type": "code",
   "execution_count": 3,
   "metadata": {},
   "outputs": [],
   "source": [
    "sc = SparkSession.builder.getOrCreate()\n",
    "sc.conf.set(\"spark.sql.execution.arrow.enabled\", \"true\")"
   ]
  },
  {
   "cell_type": "code",
   "execution_count": 4,
   "metadata": {},
   "outputs": [],
   "source": [
    "iris = datasets.load_iris()\n",
    "X_class = pd.DataFrame(iris.data, columns=iris.feature_names)\n",
    "y_class = pd.DataFrame(iris.target, columns=['label'])\n",
    "classs = pd.concat([X_class,y_class],axis=1)\n",
    "classs['id']=classs.index\n",
    "classs.columns=['A','B','C','D','label','id']\n",
    "num_obs = classs.shape[0]\n",
    "dfclust = sc.createDataFrame(classs)"
   ]
  },
  {
   "cell_type": "code",
   "execution_count": 8,
   "metadata": {},
   "outputs": [],
   "source": [
    "schema_list1 = [StructField(str(name), FloatType(), True) for name in range(50)]\n",
    "#schema_list1.append(StructField('label', DoubleType(),True))\n",
    "cos_schema=StructType(schema_list1)"
   ]
  },
  {
   "cell_type": "markdown",
   "metadata": {},
   "source": [
    "As a prototype, I have two versions of the cosine similarity as pandas udf functions. The first one returns the whole cosine similarity matrix for each label in the groupby (assuming they all have the same # of observations)"
   ]
  },
  {
   "cell_type": "code",
   "execution_count": 8,
   "metadata": {},
   "outputs": [
    {
     "data": {
      "text/plain": [
       "DataFrame[label: bigint, A: double, B: double, C: double, D: double, id: bigint]"
      ]
     },
     "execution_count": 8,
     "metadata": {},
     "output_type": "execute_result"
    }
   ],
   "source": [
    "#pandas udf to row normalize data\n",
    "@pandas_udf(\"label long, A double, B double, C double, D double, id long\", PandasUDFType.GROUPED_MAP)\n",
    "def normalize(pdf):\n",
    "    # pdf is a pandas.DataFrame\n",
    "    pdf_temp = pdf.loc[:,['A','B','C','D']].apply(lambda x: x*x)\n",
    "    sum_squares = pdf_temp.sum(axis=0)\n",
    "    normed = pdf_temp.div(np.sqrt(sum_squares))\n",
    "    normed['label'] = pdf['label']\n",
    "    normed['id'] = pdf['id']\n",
    "    return normed\n",
    "dfclust.groupby(\"label\").apply(normalize)"
   ]
  },
  {
   "cell_type": "code",
   "execution_count": 10,
   "metadata": {},
   "outputs": [],
   "source": [
    "#pandas udf that takes the normalized data and finds the dot product (cosine) matrix\n",
    "#could be used with differnt scaling preproccess to create correlation matrix or covariance matrix\n",
    "@pandas_udf(cos_schema, PandasUDFType.GROUPED_MAP)\n",
    "def dot_prods(pdf):\n",
    "    #pdf is a pandas.DataFrame\n",
    "    pdf_temp = pdf.loc[:,['A','B','C','D']]\n",
    "    pdf_matrix = pdf_temp.to_numpy()\n",
    "    dot_prods = pdf_matrix @ pdf_matrix.T\n",
    "    return_df = pd.DataFrame(dot_prods)\n",
    "    #return_df['label'] = pdf['label']\n",
    "    return return_df\n",
    "    \n",
    "normed = dfclust.groupby(\"label\").apply(normalize)\n",
    "dots = normed.groupby(\"label\").apply(dot_prods)"
   ]
  },
  {
   "cell_type": "code",
   "execution_count": 11,
   "metadata": {},
   "outputs": [
    {
     "data": {
      "text/plain": [
       "150"
      ]
     },
     "execution_count": 11,
     "metadata": {},
     "output_type": "execute_result"
    }
   ],
   "source": [
    "dots.count()"
   ]
  },
  {
   "cell_type": "code",
   "execution_count": null,
   "metadata": {},
   "outputs": [],
   "source": []
  },
  {
   "cell_type": "code",
   "execution_count": null,
   "metadata": {},
   "outputs": [],
   "source": [
    "# similarity_df = sc.createDataFrame(classs)\n",
    "# rdd_df=similarity_df.rdd.map(list)\n",
    "# df_matrix = RowMatrix(rdd_df)"
   ]
  },
  {
   "cell_type": "code",
   "execution_count": 5,
   "metadata": {},
   "outputs": [],
   "source": [
    "irm = IndexedRowMatrix(dfclust.rdd.map(lambda x: (x.id, [x.A, x.B, x.C, x.D]) ) )\n",
    "irmt = irm.toCoordinateMatrix().transpose()\n",
    "cosines = irmt.toRowMatrix().columnSimilarities()"
   ]
  },
  {
   "cell_type": "code",
   "execution_count": 9,
   "metadata": {},
   "outputs": [],
   "source": [
    "rows = cosines.toRowMatrix().rows"
   ]
  },
  {
   "cell_type": "code",
   "execution_count": null,
   "metadata": {},
   "outputs": [],
   "source": [
    "@udf(returnType=StringType())\n",
    "def cosine_sim_udf(a,b,c,d):\n",
    "    dfa = a.withColumn(\"id\", monotonically_increasing_id())\n",
    "    dfb = b.withColumn(\"id\", monotonically_increasing_id())\n",
    "    dfc = c.withColumn(\"id\", monotonically_increasing_id())\n",
    "    dfd = d.withColumn(\"id\", monotonically_increasing_id())\n",
    "    \n",
    "    \n",
    "    dftemp = dfa.join(dfb, \"id\", \"outer\")\n",
    "    dftemp = dftemp.join(dfc,\"id\",\"outer\")\n",
    "    dftemp = dftemp.join(dfd,\"id\",\"outer\")\n",
    "    \n",
    "    irm = IndexedRowMatrix(dftemp.rdd.map(lambda x: (x.id, [x.A, x.B, x.C, x.D]) ) )\n",
    "    irmt = irm.toCoordinateMatrix().transpose()\n",
    "    cosine_matrix = irmt.toRowMatrix().columnSimilarities()\n",
    "    avg_sim = cosine_matrix.toRowMatrix().rows.map(lambda x :x.toArray()).sum().sum()/(1225)\n",
    "    return avg_sim\n"
   ]
  },
  {
   "cell_type": "code",
   "execution_count": null,
   "metadata": {},
   "outputs": [],
   "source": [
    "grouped = dfclust.groupBy(\"label\").agg(collect_list(dfclust['A']).alias('A'),\n",
    "                                            collect_list(dfclust['B']).alias('B'),\n",
    "                                            collect_list(dfclust['C']).alias('C'),\n",
    "                                            collect_list(dfclust['D']).alias('D'))\n"
   ]
  },
  {
   "cell_type": "code",
   "execution_count": null,
   "metadata": {},
   "outputs": [],
   "source": [
    "grouped.select( grouped['label'], cosine_sim_udf(grouped['A'],grouped['B'],grouped['C'],grouped['D']) ).show()"
   ]
  }
 ],
 "metadata": {
  "kernelspec": {
   "display_name": "Python 3",
   "language": "python",
   "name": "python3"
  },
  "language_info": {
   "codemirror_mode": {
    "name": "ipython",
    "version": 3
   },
   "file_extension": ".py",
   "mimetype": "text/x-python",
   "name": "python",
   "nbconvert_exporter": "python",
   "pygments_lexer": "ipython3",
   "version": "3.7.6"
  }
 },
 "nbformat": 4,
 "nbformat_minor": 4
}

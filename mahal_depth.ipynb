{
 "cells": [
  {
   "cell_type": "code",
   "execution_count": 1,
   "metadata": {},
   "outputs": [],
   "source": [
    "import pandas as pd\n",
    "import pyspark\n",
    "import pandas as pd\n",
    "import numpy as np\n",
    "import matplotlib.pyplot as plt\n",
    "from pyspark.sql import SparkSession\n",
    "import pyspark.sql.types as t\n",
    "import pyspark.sql.functions as f\n",
    "from sklearn.covariance import LedoitWolf\n",
    "from scipy.stats import rankdata"
   ]
  },
  {
   "cell_type": "code",
   "execution_count": 2,
   "metadata": {},
   "outputs": [],
   "source": [
    "sc = SparkSession.builder.getOrCreate()"
   ]
  },
  {
   "cell_type": "code",
   "execution_count": 3,
   "metadata": {},
   "outputs": [],
   "source": [
    "full_data = pd.read_csv(\"full_data_df\")\n",
    "baseline = pd.read_csv(\"baseline_df\")"
   ]
  },
  {
   "cell_type": "code",
   "execution_count": 4,
   "metadata": {},
   "outputs": [
    {
     "data": {
      "text/plain": [
       "(5000, 8)"
      ]
     },
     "execution_count": 4,
     "metadata": {},
     "output_type": "execute_result"
    }
   ],
   "source": [
    "full_data.shape\n",
    "baseline.shape"
   ]
  },
  {
   "cell_type": "code",
   "execution_count": 6,
   "metadata": {},
   "outputs": [],
   "source": [
    "df = full_data[['A','B','C','D','label']].sample(n=15000)\n",
    "sdf = sc.createDataFrame(df)\n",
    "bdf = baseline[['A','B','C','D','label']].sample(n=5000)\n",
    "baseline_df = sc.createDataFrame(bdf)"
   ]
  },
  {
   "cell_type": "code",
   "execution_count": null,
   "metadata": {},
   "outputs": [],
   "source": []
  },
  {
   "cell_type": "markdown",
   "metadata": {},
   "source": [
    "### This code defines a udf that finds average mahalanobis depth"
   ]
  },
  {
   "cell_type": "code",
   "execution_count": 7,
   "metadata": {},
   "outputs": [],
   "source": [
    "@f.udf(t.FloatType())\n",
    "def avg_mahal(*args):\n",
    "    num_rows = len(args[0])\n",
    "    \n",
    "    if num_rows >= 10:\n",
    "        \n",
    "        df = np.array(args).T\n",
    "        samples = df\n",
    "            \n",
    "        centroid = np.average(df, axis = 0)\n",
    "        shrunk = LedoitWolf()\n",
    "        s_i = shrunk.fit(df).precision_\n",
    "        depths = []\n",
    "\n",
    "        for row in samples:    \n",
    "            cent_dist = row - centroid\n",
    "            mahal = 1/(1 + (cent_dist @ s_i @ cent_dist.T))\n",
    "            depths.append(mahal)\n",
    "\n",
    "        return float(np.average(depths))\n",
    "    \n",
    "    else:\n",
    "        return None"
   ]
  },
  {
   "cell_type": "code",
   "execution_count": 16,
   "metadata": {},
   "outputs": [],
   "source": [
    "result = sdf.groupBy(\"label\").agg(avg_mahal(\n",
    "    f.collect_list(\"A\"),\n",
    "    f.collect_list(\"B\"),\n",
    "    f.collect_list(\"C\"),\n",
    "    f.collect_list(\"D\"),\n",
    ")).sort('label')"
   ]
  },
  {
   "cell_type": "code",
   "execution_count": 17,
   "metadata": {},
   "outputs": [
    {
     "name": "stdout",
     "output_type": "stream",
     "text": [
      "+-----+-----------------------------------------------------------------------------------------------------+\n",
      "|label|avg_mahal(collect_list(A, 0, 0), collect_list(B, 0, 0), collect_list(C, 0, 0), collect_list(D, 0, 0))|\n",
      "+-----+-----------------------------------------------------------------------------------------------------+\n",
      "|    0|                                                                                            0.7666802|\n",
      "|    1|                                                                                            0.5608252|\n",
      "|    2|                                                                                            0.6621632|\n",
      "|    3|                                                                                            0.5428911|\n",
      "|    4|                                                                                           0.28688452|\n",
      "|    5|                                                                                           0.50173885|\n",
      "|    6|                                                                                           0.31209305|\n",
      "+-----+-----------------------------------------------------------------------------------------------------+\n",
      "\n"
     ]
    }
   ],
   "source": [
    "result.show()"
   ]
  },
  {
   "cell_type": "code",
   "execution_count": null,
   "metadata": {},
   "outputs": [],
   "source": []
  },
  {
   "cell_type": "code",
   "execution_count": null,
   "metadata": {},
   "outputs": [],
   "source": []
  },
  {
   "cell_type": "code",
   "execution_count": 18,
   "metadata": {},
   "outputs": [],
   "source": [
    "def simple_depth(samples, df):\n",
    "    #input df of samples and distribution to base depth on\n",
    "    #samples can either be a dataframe or array of n dimensional data points\n",
    "    #or a single data point\n",
    "    \n",
    "    df = np.array(df).T\n",
    "    samples = np.array(samples).T\n",
    "    centroid = np.average(df, axis = 0)\n",
    "    \n",
    "    depths = []\n",
    "    \n",
    "    for row in samples:    \n",
    "        cent_dist = row - centroid\n",
    "        length = 1/(1+np.sqrt(np.sum(np.square(cent_dist))))\n",
    "        depths.append(length)\n",
    "        \n",
    "    return depths\n"
   ]
  },
  {
   "cell_type": "code",
   "execution_count": 19,
   "metadata": {},
   "outputs": [],
   "source": [
    "\n",
    "def mahal_shrinkage(samples, df):\n",
    "    \"\"\"input df of samples and distribution to base depth on samples can either be a\n",
    "    dataframe or array of n dimensional data points, or a single data point\n",
    "    The ledoit wolf sshrinkage operation transforms the covariance matrix in a way that \n",
    "    makes finding the inverse easier.\n",
    "    \"\"\"\n",
    "    df = np.array(df).T\n",
    "    samples = np.array(samples).T\n",
    "    \n",
    "    centroid = np.average(df, axis = 0)\n",
    "    shrunk = LedoitWolf()\n",
    "    s_i = shrunk.fit(df).precision_\n",
    "    depths = []\n",
    "    \n",
    "    for row in samples:    \n",
    "        cent_dist = row - centroid\n",
    "        mahal = 1/(1 + (cent_dist @ s_i @ cent_dist.T))\n",
    "        depths.append(mahal)\n",
    "\n",
    "    return depths\n"
   ]
  },
  {
   "cell_type": "code",
   "execution_count": 20,
   "metadata": {},
   "outputs": [],
   "source": [
    "def mkw(sample1, sample2):\n",
    "    # statistic indicating if the samples are similarly distributed or not\n",
    "    sample1 = np.array(sample1)\n",
    "    sample2 = np.array(sample2)\n",
    "    n1 = sample1.shape[0]\n",
    "    n2 = sample2.shape[0]\n",
    "    n = n1+n2\n",
    "    \n",
    "    s1_depths = [mahal_shrinkage(sample,sample1)for sample in (sample1,sample2)]\n",
    "    s2_depths = [mahal_shrinkage(sample,sample2)for sample in (sample1,sample2)]\n",
    "    \n",
    "    s1_ranks = rankdata((s1_depths[0]+s1_depths[1]))\n",
    "    s2_ranks = rankdata((s2_depths[0]+s2_depths[1]))\n",
    "    \n",
    "    ranks_mat = np.array([s1_ranks[:n1], s1_ranks[n1:], s2_ranks[:n2], s2_ranks[n2:]])\n",
    "    sum_sq_avg =[np.square(np.sum(ranks))/ranks.shape[0] for ranks in ranks_mat]\n",
    "    \n",
    "    \n",
    "                       \n",
    "    h_stat_1 = 6/(n*(n+1))\n",
    "    h_stat_2 = np.sum(sum_sq_avg)\n",
    "    h_stat_3 = 3*(n+1)\n",
    "        \n",
    "    return h_stat_1*h_stat_2-h_stat_3"
   ]
  },
  {
   "cell_type": "code",
   "execution_count": 21,
   "metadata": {},
   "outputs": [],
   "source": [
    "base=baseline[['A','B','C','D']].T\n",
    "@f.udf(t.FloatType())\n",
    "def mkw_baseline(*args):\n",
    "    num_rows = len(args[0])\n",
    "    \n",
    "    if num_rows >= 10:\n",
    "        \n",
    "        statistic = mkw(args, base)\n",
    "        \n",
    "        return float(statistic)\n",
    "    else:\n",
    "        return None"
   ]
  },
  {
   "cell_type": "code",
   "execution_count": 22,
   "metadata": {},
   "outputs": [],
   "source": [
    "result = sdf.groupBy(\"label\").agg(mkw_baseline(\n",
    "    f.collect_list(\"A\"),\n",
    "    f.collect_list(\"B\"),\n",
    "    f.collect_list(\"C\"),\n",
    "    f.collect_list(\"D\"),\n",
    ")).sort('label')"
   ]
  },
  {
   "cell_type": "code",
   "execution_count": null,
   "metadata": {},
   "outputs": [
    {
     "name": "stdout",
     "output_type": "stream",
     "text": [
      "+-----+--------------------------------------------------------------------------------------------------------+\n",
      "|label|mkw_baseline(collect_list(A, 0, 0), collect_list(B, 0, 0), collect_list(C, 0, 0), collect_list(D, 0, 0))|\n",
      "+-----+--------------------------------------------------------------------------------------------------------+\n",
      "|    0|                                                                                            1.5118593E10|\n",
      "|    1|                                                                                            1.2982785E10|\n",
      "|    2|                                                                                           1.00770857E10|\n",
      "|    3|                                                                                             8.8240896E9|\n",
      "|    4|                                                                                             6.6817874E9|\n",
      "|    5|                                                                                             8.9091779E9|\n",
      "|    6|                                                                                             6.9046702E9|\n",
      "+-----+--------------------------------------------------------------------------------------------------------+\n",
      "\n"
     ]
    }
   ],
   "source": [
    "result.show()"
   ]
  },
  {
   "cell_type": "code",
   "execution_count": null,
   "metadata": {},
   "outputs": [],
   "source": []
  },
  {
   "cell_type": "code",
   "execution_count": null,
   "metadata": {},
   "outputs": [],
   "source": []
  },
  {
   "cell_type": "code",
   "execution_count": null,
   "metadata": {},
   "outputs": [],
   "source": []
  }
 ],
 "metadata": {
  "kernelspec": {
   "display_name": "Python 3",
   "language": "python",
   "name": "python3"
  },
  "language_info": {
   "codemirror_mode": {
    "name": "ipython",
    "version": 3
   },
   "file_extension": ".py",
   "mimetype": "text/x-python",
   "name": "python",
   "nbconvert_exporter": "python",
   "pygments_lexer": "ipython3",
   "version": "3.7.6"
  }
 },
 "nbformat": 4,
 "nbformat_minor": 4
}

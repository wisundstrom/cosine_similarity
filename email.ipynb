{
 "cells": [
  {
   "cell_type": "markdown",
   "metadata": {},
   "source": [
    "# email"
   ]
  },
  {
   "cell_type": "code",
   "execution_count": 1,
   "metadata": {},
   "outputs": [],
   "source": [
    "import re\n",
    "import pandas as pd\n",
    "import glob\n",
    "from itertools import chain\n",
    "from sklearn.feature_extraction.text import CountVectorizer, TfidfTransformer\n",
    "from sklearn.metrics.pairwise import cosine_similarity, cosine_distances\n",
    "from sklearn.cluster import AffinityPropagation, AgglomerativeClustering\n",
    "from sklearn.decomposition import PCA, TruncatedSVD, NMF\n",
    "from sklearn.manifold import TSNE\n",
    "from sklearn.preprocessing import StandardScaler\n",
    "import numpy as np\n",
    "import string as st\n",
    "import random as ra\n",
    "import matplotlib.pyplot as plt\n",
    "import seaborn as sns\n"
   ]
  },
  {
   "cell_type": "code",
   "execution_count": 2,
   "metadata": {},
   "outputs": [],
   "source": [
    "txt_files = glob.glob(\"data/*\")"
   ]
  },
  {
   "cell_type": "code",
   "execution_count": 3,
   "metadata": {},
   "outputs": [],
   "source": [
    "def find_emails(file_name):\n",
    "    \n",
    "    with open(file_name, 'rt') as message:\n",
    "        file = message.read()\n",
    "        \n",
    "    file = file.replace(\"\\n\", \" \")\n",
    "    exp = \"[\\w\\.\\+\\-\\!\\?\\*#$%&'=]+@[\\w]+\\.+[\\w-]+\"\n",
    "    emails = re.findall(exp, file)\n",
    "\n",
    "    return emails\n",
    "\n"
   ]
  },
  {
   "cell_type": "code",
   "execution_count": 186,
   "metadata": {},
   "outputs": [],
   "source": [
    "emails = map(find_emails, txt_files)\n",
    "flattened = set(chain.from_iterable(emails))\n",
    "email_list = list(set(map(lambda x: x.strip(\"'\"), flattened)))\n",
    "pd.to_pickle(email_list, \"email_list\")"
   ]
  },
  {
   "cell_type": "markdown",
   "metadata": {},
   "source": [
    "# Simple character vectorization of emails"
   ]
  },
  {
   "cell_type": "code",
   "execution_count": 5,
   "metadata": {},
   "outputs": [],
   "source": [
    "vectorizer = CountVectorizer(analyzer='char', lowercase=False, ngram_range=(1,1))\n",
    "vectorizer = vectorizer.fit(email_list)\n",
    "email_vect = vectorizer.transform(email_list)\n",
    "transformer = TfidfTransformer()\n",
    "email_vect = transformer.fit_transform(email_vect)\n"
   ]
  },
  {
   "cell_type": "code",
   "execution_count": null,
   "metadata": {},
   "outputs": [],
   "source": []
  },
  {
   "cell_type": "code",
   "execution_count": 6,
   "metadata": {},
   "outputs": [
    {
     "data": {
      "text/plain": [
       "(5358, 74)"
      ]
     },
     "execution_count": 6,
     "metadata": {},
     "output_type": "execute_result"
    }
   ],
   "source": [
    "email_vect.shape"
   ]
  },
  {
   "cell_type": "code",
   "execution_count": 7,
   "metadata": {},
   "outputs": [],
   "source": [
    "vectorizer.get_feature_names();"
   ]
  },
  {
   "cell_type": "code",
   "execution_count": 8,
   "metadata": {},
   "outputs": [],
   "source": [
    "sims = cosine_distances(email_vect)\n",
    "n_dim, m_dim = sims.shape\n",
    "sims= np.triu(sims, k=1)"
   ]
  },
  {
   "cell_type": "markdown",
   "metadata": {},
   "source": [
    "# finding most similar pairs to check"
   ]
  },
  {
   "cell_type": "code",
   "execution_count": 9,
   "metadata": {},
   "outputs": [],
   "source": [
    "top5 = np.argpartition(sims, 5, axis=None)[:5]\n",
    "n_dim, m_dim = sims.shape\n",
    "top5_indicesnp_1 = [int(x/m_dim) for x in top5]\n",
    "top5_indicesnp_2 = [x%m_dim for x in top5]\n",
    "top5_indicesnp = (tuple(top5_indicesnp_1),tuple(top5_indicesnp_2))\n",
    "top5_indices = list(map((lambda x : (int(x/m_dim), x%m_dim) ), (top5)))\n"
   ]
  },
  {
   "cell_type": "code",
   "execution_count": null,
   "metadata": {},
   "outputs": [],
   "source": []
  },
  {
   "cell_type": "code",
   "execution_count": 10,
   "metadata": {},
   "outputs": [
    {
     "data": {
      "text/plain": [
       "[(3585, 1165), (3585, 1167), (3585, 1163), (3585, 1164), (3585, 1161)]"
      ]
     },
     "execution_count": 10,
     "metadata": {},
     "output_type": "execute_result"
    }
   ],
   "source": [
    "top5_indices"
   ]
  },
  {
   "cell_type": "code",
   "execution_count": 11,
   "metadata": {},
   "outputs": [
    {
     "data": {
      "text/plain": [
       "array([0., 0., 0., 0., 0.])"
      ]
     },
     "execution_count": 11,
     "metadata": {},
     "output_type": "execute_result"
    }
   ],
   "source": [
    "sims[top5_indicesnp]"
   ]
  },
  {
   "cell_type": "code",
   "execution_count": 12,
   "metadata": {},
   "outputs": [
    {
     "data": {
      "text/plain": [
       "('kmayfiel@enron.com', 'burns@enron.com')"
      ]
     },
     "execution_count": 12,
     "metadata": {},
     "output_type": "execute_result"
    }
   ],
   "source": [
    "email_list[3585],email_list[1160]"
   ]
  },
  {
   "cell_type": "markdown",
   "metadata": {},
   "source": [
    "# other ideas\n",
    "\n",
    "cosine similarity is good, the trick is encoding the emails as vectors in a way that makes sense.\n",
    "there are two different things to look at:\n",
    "\n",
    "- changing tokens to something like uppercase, lowercase, symbol, number or even using dictionaries of names or words to do word, name, symbol, number\n",
    "\n",
    "- adding in some dependence on order; right now anagrams will have similarity of 1. could change tokens to ngrams or directional transitions, ie a->b, a->c, etc. would be the vector space. \n",
    "\n",
    "the next goal is to do something combining these- where we look at uppercase->lowercase->symbol etc. transitions"
   ]
  },
  {
   "cell_type": "markdown",
   "metadata": {},
   "source": [
    "# New dictionary"
   ]
  },
  {
   "cell_type": "code",
   "execution_count": null,
   "metadata": {},
   "outputs": [],
   "source": []
  },
  {
   "cell_type": "code",
   "execution_count": 13,
   "metadata": {},
   "outputs": [],
   "source": [
    "vectorizer = CountVectorizer(analyzer='char', lowercase=False)\n",
    "vectorizer = vectorizer.fit(email_list)\n"
   ]
  },
  {
   "cell_type": "code",
   "execution_count": 14,
   "metadata": {},
   "outputs": [],
   "source": [
    "symbols = vectorizer.get_feature_names()"
   ]
  },
  {
   "cell_type": "code",
   "execution_count": 15,
   "metadata": {},
   "outputs": [],
   "source": [
    "vocab2 = {}\n",
    "for char in symbols:\n",
    "    if char in st.ascii_lowercase:\n",
    "        vocab2[char]=0\n",
    "    elif char in st.ascii_uppercase:\n",
    "        vocab2[char]=1\n",
    "    elif char in st.digits:\n",
    "        vocab2[char]=2\n",
    "    else:\n",
    "        vocab2[char]=3\n",
    "vocab2['\"'] = 4"
   ]
  },
  {
   "cell_type": "code",
   "execution_count": 188,
   "metadata": {},
   "outputs": [],
   "source": [
    "vocab2;"
   ]
  },
  {
   "cell_type": "code",
   "execution_count": 17,
   "metadata": {},
   "outputs": [],
   "source": [
    "def token_mapper(list_of_string, dictionary):\n",
    "    str1 = [''.join(str(e) for e in list(map(dictionary.get, string))) for string in list_of_string] \n",
    "    return str1"
   ]
  },
  {
   "cell_type": "code",
   "execution_count": 18,
   "metadata": {},
   "outputs": [],
   "source": [
    "mapped = token_mapper(email_list, vocab2)"
   ]
  },
  {
   "cell_type": "code",
   "execution_count": 19,
   "metadata": {},
   "outputs": [],
   "source": [
    "mapped;"
   ]
  },
  {
   "cell_type": "code",
   "execution_count": 20,
   "metadata": {},
   "outputs": [],
   "source": [
    "# vectorizer2=CountVectorizer(analyzer='char')\n",
    "# vectors2 = vectorizer2.fit_transform(mapped)"
   ]
  },
  {
   "cell_type": "code",
   "execution_count": 39,
   "metadata": {},
   "outputs": [],
   "source": [
    "#try with ngrams\n",
    "vectorizer2=CountVectorizer(analyzer='char', ngram_range=(3,4))\n",
    "vectors2 = vectorizer2.fit_transform(mapped)\n",
    "transformer = TfidfTransformer()\n",
    "vectors2 = transformer.fit_transform(vectors2)"
   ]
  },
  {
   "cell_type": "code",
   "execution_count": 40,
   "metadata": {},
   "outputs": [
    {
     "data": {
      "text/plain": [
       "(5358, 240)"
      ]
     },
     "execution_count": 40,
     "metadata": {},
     "output_type": "execute_result"
    }
   ],
   "source": [
    "vectors2.shape"
   ]
  },
  {
   "cell_type": "code",
   "execution_count": 41,
   "metadata": {},
   "outputs": [],
   "source": [
    "# scaler = StandardScaler()\n",
    "# vectors2_scaled = scaler.fit_transform(vectors2.toarray())"
   ]
  },
  {
   "cell_type": "code",
   "execution_count": 42,
   "metadata": {},
   "outputs": [],
   "source": [
    "sims = cosine_distances(vectors2)\n",
    "n_dim, m_dim = sims.shape\n",
    "sims= np.triu(sims, k=1)"
   ]
  },
  {
   "cell_type": "code",
   "execution_count": 43,
   "metadata": {},
   "outputs": [
    {
     "data": {
      "text/plain": [
       "array([[0.        , 0.01016716, 0.04129215, ..., 0.07355828, 0.7003016 ,\n",
       "        0.01016716],\n",
       "       [0.        , 0.        , 0.01058872, ..., 0.02947847, 0.6826823 ,\n",
       "        0.        ],\n",
       "       [0.        , 0.        , 0.        , ..., 0.00484431, 0.6713554 ,\n",
       "        0.01058872],\n",
       "       ...,\n",
       "       [0.        , 0.        , 0.        , ..., 0.        , 0.66690853,\n",
       "        0.02947847],\n",
       "       [0.        , 0.        , 0.        , ..., 0.        , 0.        ,\n",
       "        0.6826823 ],\n",
       "       [0.        , 0.        , 0.        , ..., 0.        , 0.        ,\n",
       "        0.        ]])"
      ]
     },
     "execution_count": 43,
     "metadata": {},
     "output_type": "execute_result"
    }
   ],
   "source": [
    "sims"
   ]
  },
  {
   "cell_type": "code",
   "execution_count": null,
   "metadata": {},
   "outputs": [],
   "source": []
  },
  {
   "cell_type": "code",
   "execution_count": 44,
   "metadata": {},
   "outputs": [],
   "source": [
    "top5 = np.argpartition(sims, -5, axis=None)[-5:]\n",
    "n_dim, m_dim = sims.shape\n",
    "top5_indicesnp_1 = [int(x/m_dim) for x in top5]\n",
    "top5_indicesnp_2 = [x%m_dim for x in top5]\n",
    "top5_indicesnp = (tuple(top5_indicesnp_1),tuple(top5_indicesnp_2))\n",
    "top5_indices = list(map((lambda x : (int(x/m_dim), x%m_dim) ), (top5)))\n"
   ]
  },
  {
   "cell_type": "code",
   "execution_count": null,
   "metadata": {},
   "outputs": [],
   "source": []
  },
  {
   "cell_type": "code",
   "execution_count": 212,
   "metadata": {},
   "outputs": [
    {
     "data": {
      "text/plain": [
       "[(554, 4470), (2393, 4272), (125, 726), (775, 1959), (661, 1501)]"
      ]
     },
     "execution_count": 212,
     "metadata": {},
     "output_type": "execute_result"
    }
   ],
   "source": [
    "top5_indices"
   ]
  },
  {
   "cell_type": "code",
   "execution_count": 213,
   "metadata": {},
   "outputs": [
    {
     "data": {
      "text/plain": [
       "array([1., 1., 1., 1., 1.])"
      ]
     },
     "execution_count": 213,
     "metadata": {},
     "output_type": "execute_result"
    }
   ],
   "source": [
    "sims[top5_indicesnp]"
   ]
  },
  {
   "cell_type": "code",
   "execution_count": 215,
   "metadata": {},
   "outputs": [
    {
     "data": {
      "text/plain": [
       "('mdobbs@kpmg.com', 'ROBROGOWSKI@YAHOO.COM')"
      ]
     },
     "execution_count": 215,
     "metadata": {},
     "output_type": "execute_result"
    }
   ],
   "source": [
    "email_list[125],email_list[726]"
   ]
  },
  {
   "cell_type": "markdown",
   "metadata": {},
   "source": [
    "# checkpoint"
   ]
  },
  {
   "cell_type": "code",
   "execution_count": 38,
   "metadata": {},
   "outputs": [],
   "source": [
    "# ap = AffinityPropagation(affinity = 'precomputed')\n",
    "# ap.fit(sims)"
   ]
  },
  {
   "cell_type": "code",
   "execution_count": 71,
   "metadata": {},
   "outputs": [
    {
     "data": {
      "text/plain": [
       "AgglomerativeClustering(affinity='precomputed', compute_full_tree='auto',\n",
       "                        connectivity=None, distance_threshold=0.8,\n",
       "                        linkage='complete', memory=None, n_clusters=None)"
      ]
     },
     "execution_count": 71,
     "metadata": {},
     "output_type": "execute_result"
    }
   ],
   "source": [
    "ag= AgglomerativeClustering(n_clusters = None, affinity = 'precomputed', linkage='complete', distance_threshold=.8 )\n",
    "ag.fit(sims)"
   ]
  },
  {
   "cell_type": "code",
   "execution_count": 72,
   "metadata": {},
   "outputs": [],
   "source": [
    "df = pd.DataFrame(vectors2)"
   ]
  },
  {
   "cell_type": "code",
   "execution_count": 73,
   "metadata": {},
   "outputs": [],
   "source": [
    "#df = pd.DataFrame(email_vect)"
   ]
  },
  {
   "cell_type": "code",
   "execution_count": 74,
   "metadata": {},
   "outputs": [],
   "source": []
  },
  {
   "cell_type": "code",
   "execution_count": 75,
   "metadata": {},
   "outputs": [],
   "source": [
    "# vectors2_centered = vectors2-np.average(vectors2.toarray(), axis=0)"
   ]
  },
  {
   "cell_type": "code",
   "execution_count": 76,
   "metadata": {},
   "outputs": [],
   "source": [
    "# nmf = NMF(n_components = 20)\n",
    "# dim2 = nmf.fit_transform(vectors2)"
   ]
  },
  {
   "cell_type": "code",
   "execution_count": 177,
   "metadata": {},
   "outputs": [],
   "source": [
    "scaler = StandardScaler()\n",
    "vectors2_scaled = scaler.fit_transform(vectors2.toarray())\n",
    "svd = PCA(n_components = 80)\n",
    "dim2 = svd.fit_transform(vectors2_scaled)\n"
   ]
  },
  {
   "cell_type": "code",
   "execution_count": 178,
   "metadata": {},
   "outputs": [
    {
     "data": {
      "text/plain": [
       "0.19064371753782494"
      ]
     },
     "execution_count": 178,
     "metadata": {},
     "output_type": "execute_result"
    }
   ],
   "source": [
    "svd.explained_variance_ratio_.sum()"
   ]
  },
  {
   "cell_type": "code",
   "execution_count": 179,
   "metadata": {},
   "outputs": [],
   "source": [
    "tsne = TSNE(metric = 'cosine')\n",
    "dim3 = tsne.fit_transform(dim2)"
   ]
  },
  {
   "cell_type": "code",
   "execution_count": 180,
   "metadata": {},
   "outputs": [
    {
     "data": {
      "text/plain": [
       "(5358, 2)"
      ]
     },
     "execution_count": 180,
     "metadata": {},
     "output_type": "execute_result"
    }
   ],
   "source": [
    "dim2.shape"
   ]
  },
  {
   "cell_type": "code",
   "execution_count": 181,
   "metadata": {},
   "outputs": [
    {
     "data": {
      "text/plain": [
       "AgglomerativeClustering(affinity='precomputed', compute_full_tree='auto',\n",
       "                        connectivity=None, distance_threshold=0.8,\n",
       "                        linkage='complete', memory=None, n_clusters=None)"
      ]
     },
     "execution_count": 181,
     "metadata": {},
     "output_type": "execute_result"
    }
   ],
   "source": [
    "ag2= AgglomerativeClustering(n_clusters = None, affinity = 'precomputed', linkage='complete', distance_threshold=.8 )\n",
    "ag2.fit(sims)"
   ]
  },
  {
   "cell_type": "code",
   "execution_count": 182,
   "metadata": {},
   "outputs": [],
   "source": [
    "df['labels'] = ag2.labels_"
   ]
  },
  {
   "cell_type": "code",
   "execution_count": 183,
   "metadata": {},
   "outputs": [],
   "source": [
    "dim2;"
   ]
  },
  {
   "cell_type": "code",
   "execution_count": 184,
   "metadata": {},
   "outputs": [
    {
     "data": {
      "text/plain": [
       "0        38.087966\n",
       "1        77.339358\n",
       "label    16.000000\n",
       "dtype: float64"
      ]
     },
     "execution_count": 184,
     "metadata": {},
     "output_type": "execute_result"
    }
   ],
   "source": [
    "df2d = pd.DataFrame(dim3)\n",
    "df2d['label'] = df['labels']\n",
    "#df2d[0] = np.round(df2d[0], 3)\n",
    "#df2d[1] = np.round(df2d[1], 3)\n",
    "df2d.max()"
   ]
  },
  {
   "cell_type": "code",
   "execution_count": 185,
   "metadata": {},
   "outputs": [
    {
     "data": {
      "image/png": "[encoded data removed]",
      "text/plain": [
       "<Figure size 720x720 with 1 Axes>"
      ]
     },
     "metadata": {},
     "output_type": "display_data"
    }
   ],
   "source": [
    "sns.set_style(\"darkgrid\")\n",
    "\n",
    "g = sns.scatterplot(x = df2d[0], y = df2d[1], hue = df2d['label'], palette='bright')\n",
    "fig = plt.gcf()\n",
    "fig.set_size_inches(10,10)\n",
    "plt.show()"
   ]
  },
  {
   "cell_type": "code",
   "execution_count": null,
   "metadata": {},
   "outputs": [],
   "source": []
  },
  {
   "cell_type": "code",
   "execution_count": 132,
   "metadata": {},
   "outputs": [
    {
     "name": "stdout",
     "output_type": "stream",
     "text": [
      "['R-5-728387-3078726-2-6417-US2-1E1994B7@xmr3.com', 'r-3-728402-1640008-2-359-us2-982d4478@xmr3.com', 'R-9-728387-1667935-2-6778-US2-6FF3B621@xmr3.com', 'DES883781@aol.com', 'sta062010+50457355707+jeff.skilling@enron.com', 'leave-participate.com-0110b-10816239R@lyris.postfuture', '5147D82D2EEACF119E650001FA3702F70BF96CF7@exch1.tmh', 'R-3-728402-1640008-2-359-US2-982D4478@xmr3.com', 'leave-participate.com-0109-10010942G@lyris.postfuture', 'BLADE90123@aol.com', 'r-9-728387-1667935-2-6778-us2-6ff3b621@xmr3.com', 'R-6-728387-2981197-2-3244-US2-FF34A999@xmr3.com', 'r-5-728387-3412887-2-6526-us2-7d3e6e54@xmr3.com', '16239R@lyris.postfuture', 'r-3-728387-3217638-2-3294-us2-9cb39b5d@xmr3.com', 'R-8-728387-3559515-2-6560-US2-5236E5B1@xmr3.com', 'r-5-728387-3078726-2-6417-us2-1e1994b7@xmr3.com', '74771.62@compuserve.com', 'r-6-728387-2981197-2-3244-us2-ff34a999@xmr3.com', 'R-5-728387-3412887-2-6526-US2-7D3E6E54@xmr3.com', '75677.1107@compuserve.com', 'R-3-728387-3217638-2-3294-US2-9CB39B5D@xmr3.com', '8774937918@skytel.com', '15126-1029@m2.innovyx', 'r-8-728387-3559515-2-6560-us2-5236e5b1@xmr3.com']\n"
     ]
    }
   ],
   "source": [
    "label_group = list(df2d.loc[df2d.label==16].index)\n",
    "print([email_list[ind] for ind in label_group])"
   ]
  },
  {
   "cell_type": "markdown",
   "metadata": {},
   "source": [
    "# moving on to words and names\n",
    " this method seems to be showing promise on this testing data, we will need to do more in-depth checking and testing to gauge performance\n",
    " the main problem now is that the measurements seem to be pretty affected by the length of the email address. using dictionaries and/or lists of names will help with this.\n",
    " "
   ]
  },
  {
   "cell_type": "code",
   "execution_count": 38,
   "metadata": {},
   "outputs": [],
   "source": [
    "with open(\"NamesAll.dic\", 'rt', encoding='cp1252') as message:\n",
    "        file = message.read()\n",
    "file = file.replace(\"\\n\", \",\").replace(\" \",\"\")\n",
    "names = file.split(sep=',')\n",
    "names = list(filter(lambda x: len(x)>3, names))"
   ]
  },
  {
   "cell_type": "code",
   "execution_count": 144,
   "metadata": {},
   "outputs": [],
   "source": [
    "#test_add = \"abashir22@gmail.com\""
   ]
  },
  {
   "cell_type": "code",
   "execution_count": 39,
   "metadata": {},
   "outputs": [],
   "source": [
    "def name_replace(string, dict):\n",
    "    for word in dict:\n",
    "        string2 = string.replace(word, '\"')\n",
    "        if string2 != string:\n",
    "            return string2\n",
    "        \n",
    "    return string"
   ]
  },
  {
   "cell_type": "code",
   "execution_count": null,
   "metadata": {},
   "outputs": [],
   "source": []
  },
  {
   "cell_type": "code",
   "execution_count": 40,
   "metadata": {},
   "outputs": [],
   "source": [
    "ra.shuffle(names)"
   ]
  },
  {
   "cell_type": "code",
   "execution_count": 42,
   "metadata": {},
   "outputs": [],
   "source": [
    "#name_replace(test_add, names)"
   ]
  },
  {
   "cell_type": "code",
   "execution_count": 43,
   "metadata": {},
   "outputs": [],
   "source": [
    "mapped1 = [name_replace(email, names) for email in email_list]"
   ]
  },
  {
   "cell_type": "code",
   "execution_count": 67,
   "metadata": {},
   "outputs": [],
   "source": [
    "mapped1;"
   ]
  },
  {
   "cell_type": "code",
   "execution_count": 45,
   "metadata": {},
   "outputs": [],
   "source": [
    "mapped2 = token_mapper(mapped1, vocab2)"
   ]
  },
  {
   "cell_type": "code",
   "execution_count": 69,
   "metadata": {},
   "outputs": [],
   "source": [
    "mapped2;"
   ]
  },
  {
   "cell_type": "code",
   "execution_count": 118,
   "metadata": {},
   "outputs": [],
   "source": [
    "#try with ngrams\n",
    "vectorizer2=CountVectorizer(analyzer='char', ngram_range=(5,5))\n",
    "vectorizer2 = vectorizer2.fit(mapped2)\n",
    "vectors2 = vectorizer2.transform(mapped2)"
   ]
  },
  {
   "cell_type": "code",
   "execution_count": 119,
   "metadata": {},
   "outputs": [
    {
     "data": {
      "text/plain": [
       "(5358, 698)"
      ]
     },
     "execution_count": 119,
     "metadata": {},
     "output_type": "execute_result"
    }
   ],
   "source": [
    "vectors2.shape"
   ]
  },
  {
   "cell_type": "code",
   "execution_count": 120,
   "metadata": {},
   "outputs": [],
   "source": [
    "cols = list(zip(vectorizer2.get_feature_names(), list(range(309))))"
   ]
  },
  {
   "cell_type": "code",
   "execution_count": 121,
   "metadata": {},
   "outputs": [],
   "source": [
    "nearby_names = list(filter(lambda x : \"4\" in x[0], cols))\n",
    "nn_indices = list(map(lambda x : x[1], nearby_names))"
   ]
  },
  {
   "cell_type": "code",
   "execution_count": null,
   "metadata": {},
   "outputs": [],
   "source": []
  },
  {
   "cell_type": "code",
   "execution_count": 122,
   "metadata": {},
   "outputs": [
    {
     "data": {
      "text/plain": [
       "(5358, 125)"
      ]
     },
     "execution_count": 122,
     "metadata": {},
     "output_type": "execute_result"
    }
   ],
   "source": [
    "vectors3 = vectors2[:,nn_indices]\n",
    "vectors3.shape"
   ]
  },
  {
   "cell_type": "code",
   "execution_count": 123,
   "metadata": {},
   "outputs": [],
   "source": [
    "sims = cosine_similarity(vectors3)\n",
    "n_dim, m_dim = sims.shape\n",
    "sims= np.triu(sims, k=1)"
   ]
  },
  {
   "cell_type": "code",
   "execution_count": null,
   "metadata": {},
   "outputs": [],
   "source": []
  },
  {
   "cell_type": "code",
   "execution_count": 124,
   "metadata": {},
   "outputs": [],
   "source": [
    "top5 = np.argpartition(sims, -8, axis=None)[-8:]\n",
    "n_dim, m_dim = sims.shape\n",
    "top5_indicesnp_1 = [int(x/m_dim) for x in top5]\n",
    "top5_indicesnp_2 = [x%m_dim for x in top5]\n",
    "top5_indicesnp = (tuple(top5_indicesnp_1),tuple(top5_indicesnp_2))\n",
    "top5_indices = list(map((lambda x : (int(x/m_dim), x%m_dim) ), (top5)))\n"
   ]
  },
  {
   "cell_type": "code",
   "execution_count": null,
   "metadata": {},
   "outputs": [],
   "source": []
  },
  {
   "cell_type": "code",
   "execution_count": 125,
   "metadata": {},
   "outputs": [
    {
     "data": {
      "text/plain": [
       "[(2958, 4526),\n",
       " (2958, 4531),\n",
       " (2958, 4522),\n",
       " (2958, 4535),\n",
       " (2958, 4568),\n",
       " (2958, 4561),\n",
       " (2958, 4567),\n",
       " (2300, 2785)]"
      ]
     },
     "execution_count": 125,
     "metadata": {},
     "output_type": "execute_result"
    }
   ],
   "source": [
    "top5_indices"
   ]
  },
  {
   "cell_type": "code",
   "execution_count": 103,
   "metadata": {},
   "outputs": [
    {
     "data": {
      "text/plain": [
       "array([1., 1., 1., 1., 1., 1., 1., 1.])"
      ]
     },
     "execution_count": 103,
     "metadata": {},
     "output_type": "execute_result"
    }
   ],
   "source": [
    "sims[top5_indicesnp]"
   ]
  },
  {
   "cell_type": "code",
   "execution_count": 129,
   "metadata": {},
   "outputs": [
    {
     "data": {
      "text/plain": [
       "('wes.dempsey@enron.com', 'ken.rice@enron.com')"
      ]
     },
     "execution_count": 129,
     "metadata": {},
     "output_type": "execute_result"
    }
   ],
   "source": [
    "email_list[2958],email_list[4526]"
   ]
  },
  {
   "cell_type": "markdown",
   "metadata": {},
   "source": [
    "This is quite crude at this point, but the dictionary approach seems to be doing what we wanted it to do. \n",
    "the dictionary search through the email addressess is very inefficient, but on the irs data we could just use any names on the tax return as a dictionary, which would probably be easy. we would run into some rich, richard, dick matching problems, but for a crude first pass it would be interesting"
   ]
  },
  {
   "cell_type": "code",
   "execution_count": 41,
   "metadata": {},
   "outputs": [],
   "source": []
  },
  {
   "cell_type": "code",
   "execution_count": null,
   "metadata": {},
   "outputs": [],
   "source": [
    "ap.fit()"
   ]
  }
 ],
 "metadata": {
  "kernelspec": {
   "display_name": "Python 3",
   "language": "python",
   "name": "python3"
  },
  "language_info": {
   "codemirror_mode": {
    "name": "ipython",
    "version": 3
   },
   "file_extension": ".py",
   "mimetype": "text/x-python",
   "name": "python",
   "nbconvert_exporter": "python",
   "pygments_lexer": "ipython3",
   "version": "3.7.6"
  }
 },
 "nbformat": 4,
 "nbformat_minor": 4
}
